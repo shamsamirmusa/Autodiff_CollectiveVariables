{
 "cells": [
  {
   "cell_type": "code",
   "execution_count": 1,
   "metadata": {},
   "outputs": [],
   "source": [
    "import jax\n",
    "import jax.numpy as jnp\n",
    "jax.config.update(\"jax_enable_x64\", True) "
   ]
  },
  {
   "cell_type": "code",
   "execution_count": 2,
   "metadata": {},
   "outputs": [
    {
     "name": "stdout",
     "output_type": "stream",
     "text": [
      "--- Function Values ---\n",
      "float32 value for the unstable fn: 1.0\n",
      "float64 value for the unstable fn: 1.000000000002\n",
      "float32 value for the stable fn: 1.0\n",
      "float64 value for the stable fn: 1.000000000002\n",
      "\n",
      "--- Derivativesfor the unstable function ---\n",
      "float32 finite derivative (step=1e-08): 0.0\n",
      "float64 finite derivative (step=1e-08): -1.1063371885278173e-17\n",
      "float32 grad autodiff 499999997952.0\n",
      "float64 grad autodiff -44450291.42059326\n",
      "\n",
      "--- Finite-Difference Derivativesfor the stable function ---\n",
      "float32 derivative (step=1e-08): 0.0\n",
      "float64 derivative (step=1e-08): 1.9999999989472883e-16\n",
      "float32 grad autodiff 2.0\n",
      "float64 grad autodiff  2.000000000002\n"
     ]
    }
   ],
   "source": [
    "def unstable_fn(x, dtype):\n",
    "    \"\"\"\n",
    "    A function prone to catastrophic cancellation.\n",
    "    In exact math, this expression tends to 0.5 as x -> 0.\n",
    "    \"\"\"\n",
    "    x = jnp.array(x, dtype=dtype)\n",
    "    return (jnp.sqrt(1.0+x) - 1.0)/x\n",
    "\n",
    "\n",
    "def stable_fn(x, dtype):\n",
    "    \"\"\"\n",
    "    A well-conditioned polynomial\n",
    "    It is much less sensitive to rounding errors.\n",
    "    \"\"\"\n",
    "    x = jnp.array(x, dtype=dtype)\n",
    "    return x**2 + 2*x + 1 \n",
    "\n",
    "\n",
    "def central_finite_diff(f, x, h):\n",
    "    \"\"\"\n",
    "    Central difference approximation of f'(x)\n",
    "    \"\"\"\n",
    "    return (f(x+h) - f(x-h))/2*h\n",
    "\n",
    "\n",
    "x_value = 1e-12\n",
    "h_value = 1e-8\n",
    "\n",
    "un_der32 = central_finite_diff(lambda val: unstable_fn(val, dtype=jnp.float32), x_value,h_value)\n",
    "un_der64 = central_finite_diff(lambda val: unstable_fn(val, dtype=jnp.float64), x_value, h_value)\n",
    "\n",
    "s_der32 = central_finite_diff(lambda val: stable_fn(val, dtype=jnp.float32), x_value, h_value)\n",
    "s_der64 = central_finite_diff(lambda val: stable_fn(val, dtype=jnp.float64), x_value, h_value)\n",
    "\n",
    "grad_stable_32 = jax.grad(lambda x: stable_fn(x, dtype=jnp.float32))\n",
    "grad_stable_64 = jax.grad(lambda x: stable_fn(x, dtype=jnp.float64))\n",
    "\n",
    "grad_unstable_32 = jax.grad(lambda x: unstable_fn(x, dtype=jnp.float32))\n",
    "grad_unstable_64 = jax.grad(lambda x: unstable_fn(x, dtype=jnp.float64))\n",
    "\n",
    "\n",
    "###########################################\n",
    "\n",
    "\n",
    "\n",
    "un_value32 = stable_fn(x_value, dtype=jnp.float32)\n",
    "un_value64 = stable_fn(x_value, dtype=jnp.float64)\n",
    "\n",
    "s_value32 = stable_fn(x_value, dtype=jnp.float32)\n",
    "s_value64 = stable_fn(x_value, dtype=jnp.float64)\n",
    "\n",
    "print(\"--- Function Values ---\")\n",
    "print(f\"float32 value for the unstable fn: {un_value32}\")\n",
    "print(f\"float64 value for the unstable fn: {un_value64}\")\n",
    "\n",
    "print(f\"float32 value for the stable fn: {s_value32}\")\n",
    "print(f\"float64 value for the stable fn: {s_value64}\")\n",
    "\n",
    "print(\"\\n--- Derivativesfor the unstable function ---\")\n",
    "print(f\"float32 finite derivative (step={h_value}): {un_der32}\")\n",
    "print(f\"float64 finite derivative (step={h_value}): {un_der64}\")\n",
    "print(f\"float32 grad autodiff {grad_unstable_32(x_value)}\")\n",
    "print(f\"float64 grad autodiff {grad_unstable_64(x_value)}\")\n",
    "\n",
    "\n",
    "\n",
    "print(\"\\n--- Finite-Difference Derivativesfor the stable function ---\")\n",
    "print(f\"float32 derivative (step={h_value}): {s_der32}\")\n",
    "print(f\"float64 derivative (step={h_value}): {s_der64}\")\n",
    "print(f\"float32 grad autodiff {grad_stable_32(x_value)}\")\n",
    "print(f\"float64 grad autodiff  {grad_stable_64(x_value)}\")\n",
    "\n",
    "\n"
   ]
  },
  {
   "cell_type": "code",
   "execution_count": null,
   "metadata": {},
   "outputs": [],
   "source": []
  }
 ],
 "metadata": {
  "kernelspec": {
   "display_name": "Python 3",
   "language": "python",
   "name": "python3"
  },
  "language_info": {
   "codemirror_mode": {
    "name": "ipython",
    "version": 3
   },
   "file_extension": ".py",
   "mimetype": "text/x-python",
   "name": "python",
   "nbconvert_exporter": "python",
   "pygments_lexer": "ipython3",
   "version": "3.10.12"
  }
 },
 "nbformat": 4,
 "nbformat_minor": 2
}
