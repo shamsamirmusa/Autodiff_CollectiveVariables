{
 "cells": [
  {
   "cell_type": "markdown",
   "metadata": {},
   "source": [
    "# JAX Autodiff Implementation Benchmark Testing "
   ]
  },
  {
   "cell_type": "code",
   "execution_count": 1,
   "metadata": {},
   "outputs": [
    {
     "name": "stdout",
     "output_type": "stream",
     "text": [
      "Benchmarking r_f(x)\n",
      "1.31 ms ± 109 μs per loop (mean ± std. dev. of 7 runs, 1 loop each)\n",
      "Benchmarking r_f_jit(x):\n",
      "7.9 μs ± 453 ns per loop (mean ± std. dev. of 7 runs, 100,000 loops each)\n",
      "Benchmarking grad(r_f)(x)\n",
      "13 ms ± 844 μs per loop (mean ± std. dev. of 7 runs, 1 loop each)\n",
      "Benchmarking grad(r_f_jit)(x)\n",
      "1.61 ms ± 315 μs per loop (mean ± std. dev. of 7 runs, 1,000 loops each)\n",
      "Benchmarking jit(grad(r_f_jit))(x)\n",
      "93.5 ms ± 6.37 ms per loop (mean ± std. dev. of 7 runs, 10 loops each)\n",
      "Benchmarking grad_jit = jit(grad(r_f_jit))(x)\n",
      "17.4 ns ± 0.116 ns per loop (mean ± std. dev. of 7 runs, 100,000,000 loops each)\n",
      "Benchmarking grad_jit = jit(grad(r_f))(x)\n",
      "17 ns ± 0.541 ns per loop (mean ± std. dev. of 7 runs, 100,000,000 loops each)\n"
     ]
    }
   ],
   "source": [
    "\n",
    "import jax.numpy as jnp\n",
    "from jax import grad, jit\n",
    "\n",
    "\n",
    "# Test input\n",
    "x = jnp.array([\n",
    "    [1.0, 0.0, 0.0],  # Point 1\n",
    "    [0.0, 1.0, 0.0],  # Point 2\n",
    "    [0.0, 0.0, 1.0],  # Point 3\n",
    "])\n",
    "\n",
    "def r_f(x):\n",
    "    r21 = x[0, :] - x[1, :]\n",
    "    r23 = x[2, :] - x[1, :]\n",
    "    r31 = x[2, :] - x[0, :]\n",
    "\n",
    "    cos2theta = jnp.dot(r21, r23)**2 / (jnp.dot(r21, r21) * jnp.dot(r23, r23))\n",
    "    sin2theta = 1 - cos2theta\n",
    "\n",
    "    R2 = jnp.dot(r31, r31) / sin2theta / 4\n",
    "    return jnp.sqrt(R2)\n",
    "\n",
    "\n",
    "@jit\n",
    "def r_f_jit(x):\n",
    "    r21 = x[0, :] - x[1, :]\n",
    "    r23 = x[2, :] - x[1, :]\n",
    "    r31 = x[2, :] - x[0, :]\n",
    "\n",
    "    cos2theta = jnp.dot(r21, r23)**2 / (jnp.dot(r21, r21) * jnp.dot(r23, r23))\n",
    "    sin2theta = 1 - cos2theta\n",
    "\n",
    "    R2 = jnp.dot(r31, r31) / sin2theta / 4\n",
    "    return jnp.sqrt(R2)\n",
    "\n",
    "\n",
    "# Benchmarking\n",
    "print(\"Benchmarking r_f(x)\")\n",
    "%timeit r_f(x)\n",
    "\n",
    "print(\"Benchmarking r_f_jit(x):\")\n",
    "%timeit r_f_jit(x)\n",
    "\n",
    "\n",
    "print(\"Benchmarking grad(r_f)(x)\")\n",
    "%timeit grad(r_f)(x)\n",
    "\n",
    "print(\"Benchmarking grad(r_f_jit)(x)\")\n",
    "%timeit grad(r_f_jit)(x)\n",
    "\n",
    "print(\"Benchmarking jit(grad(r_f_jit))(x)\")\n",
    "%timeit jit(grad(r_f_jit))(x)\n",
    "\n",
    "print(\"Benchmarking grad_jit = jit(grad(r_f_jit))(x)\")\n",
    "g1 = jit(grad(r_f_jit))(x)\n",
    "%timeit g1\n",
    "\n",
    "print(\"Benchmarking grad_jit = jit(grad(r_f))(x)\")\n",
    "g2 = jit(grad(r_f))(x)\n",
    "%timeit g2\n"
   ]
  }
 ],
 "metadata": {
  "kernelspec": {
   "display_name": "Python 3",
   "language": "python",
   "name": "python3"
  },
  "language_info": {
   "codemirror_mode": {
    "name": "ipython",
    "version": 3
   },
   "file_extension": ".py",
   "mimetype": "text/x-python",
   "name": "python",
   "nbconvert_exporter": "python",
   "pygments_lexer": "ipython3",
   "version": "3.10.12"
  }
 },
 "nbformat": 4,
 "nbformat_minor": 2
}
