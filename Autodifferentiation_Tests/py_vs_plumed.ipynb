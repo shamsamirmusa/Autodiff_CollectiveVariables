{
 "cells": [
  {
   "cell_type": "code",
   "execution_count": 6,
   "metadata": {},
   "outputs": [],
   "source": [
    "import jax.numpy as jnp\n",
    "from jax import grad, jit\n",
    "import MDAnalysis as mda\n",
    "\n",
    "@jit\n",
    "def distance(positions):\n",
    "    dist = jnp.linalg.norm(positions[0]-positions[1])\n",
    "    return dist\n",
    "\n",
    "grad_distance = grad(distance)\n",
    "dummy_box = jnp.zeros((3,3))    "
   ]
  },
  {
   "cell_type": "markdown",
   "metadata": {},
   "source": [
    "### pdb file inspection"
   ]
  },
  {
   "cell_type": "code",
   "execution_count": null,
   "metadata": {},
   "outputs": [],
   "source": [
    "file = \"/Users/sss/Documents/EnergyGap_project/data/4dvd/4dvd_plumed.pdb\"\n",
    "u=mda.Universe(file)\n",
    "#Here printed the alpha C positions and the shifted positions. \n",
    "#To be compared with the first few plumed printed positions reading from the same file.\n",
    "\n",
    "# plumed_ca_positions = jnp.array([\n",
    "#     [-4.02000008e+00,  1.45340004e+00,  1.77740002e+00],\n",
    "#     [-4.15909996e+00,  1.77970009e+00,  1.68409996e+00],\n",
    "#     [-4.24570007e+00,  1.77240009e+00,  1.41020002e+00],\n",
    "#     [-4.30859985e+00,  1.50799999e+00,  1.35129995e+00]\n",
    "# ])\n",
    "\n",
    "\n",
    "\n",
    "#Checking the numbe rof trajectories from which the positions can come \n",
    "frames=jnp.array([t.frame for t in u.trajectory])\n",
    "print(f'The file has {frames+1} frames.')\n",
    "\n",
    "#Checking the coordinates of the alpha carbons in this case.\n",
    "ca= u.select_atoms(\"name CA\")\n",
    "ca_positions = ca.positions\n",
    "\n",
    "\n",
    "ca_shifted_idx=ca.ix_array+1\n",
    "ca_shifted_positions = u.atoms[ca_shifted_idx].positions\n",
    "\n",
    "print(ca_positions)\n",
    "print(ca_shifted_positions) "
   ]
  },
  {
   "cell_type": "markdown",
   "metadata": {},
   "source": [
    "#### Applying the distance function to the \n",
    "1. ca_positions  \n",
    "\n",
    "2. plumed_ca_positions  \n",
    "\n",
    "3. ca_shifted_posiitons  \n",
    "\n",
    "Inorder to compare the distance values here with those computed through plumed. \n"
   ]
  },
  {
   "cell_type": "code",
   "execution_count": 66,
   "metadata": {},
   "outputs": [
    {
     "name": "stdout",
     "output_type": "stream",
     "text": [
      "Distance from ca_positions: 3.8264386653900146 vs 0.366777 computed through plumed python Interface\n",
      "Distance form d_plumed: 0.36677712202072144 vs 0.366777 computed through plumed python Interface and 0.146693 using plumed DISTANCE\n",
      "Distance from d_shifted: 3.0829761028289795 vs 0.366777 computed through plumed python Interface\n",
      "However, for the plumed internal DISTANCE function, the value was 0.146693 on the plumed_positions. \n"
     ]
    }
   ],
   "source": [
    "plumed_positions = jnp.array([\n",
    "    [-4.02000008e+00,  1.45340004e+00,  1.77740002e+00],\n",
    "    [-4.15909996e+00,  1.77970009e+00,  1.68409996e+00],\n",
    "    [-4.24570007e+00,  1.77240009e+00,  1.41020002e+00],\n",
    "    [-4.30859985e+00,  1.50799999e+00,  1.35129995e+00]\n",
    "])\n",
    "\n",
    "d_ca = distance(ca_positions)\n",
    "d_plumed= distance(plumed_positions)\n",
    "d_shifted = distance(ca_shifted_positions)\n",
    "\n",
    "print(f'Distance from ca_positions: {d_ca} vs 0.366777 computed through plumed python Interface')\n",
    "print(f'Distance form d_plumed: {d_plumed} vs 0.366777 computed through plumed python Interface and 0.146693 using plumed DISTANCE')\n",
    "print(f'Distance from d_shifted: {d_shifted} vs 0.366777 computed through plumed python Interface')\n"
   ]
  }
 ],
 "metadata": {
  "kernelspec": {
   "display_name": "Python 3",
   "language": "python",
   "name": "python3"
  },
  "language_info": {
   "codemirror_mode": {
    "name": "ipython",
    "version": 3
   },
   "file_extension": ".py",
   "mimetype": "text/x-python",
   "name": "python",
   "nbconvert_exporter": "python",
   "pygments_lexer": "ipython3",
   "version": "3.10.12"
  }
 },
 "nbformat": 4,
 "nbformat_minor": 2
}
