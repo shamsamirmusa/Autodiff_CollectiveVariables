{
 "cells": [
  {
   "cell_type": "code",
   "execution_count": 24,
   "metadata": {},
   "outputs": [],
   "source": [
    "import jax\n",
    "import jax.numpy as jnp\n",
    "from jax import jit, vmap\n",
    "import numpy as np\n",
    "import plotly.graph_objects as go\n",
    "from plotly.subplots import make_subplots\n",
    "jax.config.update(\"jax_enable_x64\", True) \n",
    "\n"
   ]
  },
  {
   "cell_type": "markdown",
   "metadata": {},
   "source": [
    "### writhe"
   ]
  },
  {
   "cell_type": "code",
   "execution_count": 25,
   "metadata": {},
   "outputs": [],
   "source": [
    "@jit\n",
    "def compute_writhe_chat(positions):\n",
    "    N = positions.shape[0]\n",
    "    tangents = jnp.diff(positions, axis=0)\n",
    "    seg_len = jnp.linalg.norm(tangents, axis=1, keepdims=True)\n",
    "    tangents = tangents / seg_len\n",
    "    \n",
    "\n",
    "    def pairwise_writhe(i1, i2):\n",
    "        ri = positions[i1]\n",
    "        rj = positions[i2]\n",
    "        ti = tangents[i1]\n",
    "        tj = tangents[i2]\n",
    "        diff = ri - rj\n",
    "        cross_prod = jnp.cross(tj, diff)\n",
    "        scalar_triple = jnp.dot(ti, cross_prod)\n",
    "        dist_cubed = jnp.linalg.norm(diff) ** 3\n",
    "        return (scalar_triple / dist_cubed) * seg_len[i1] * seg_len[i2]\n",
    "\n",
    "    # Create indices for all i1 < i2 combinations\n",
    "    i1_indices, i2_indices = jnp.triu_indices(N - 1, k=1)\n",
    "\n",
    "    # Vectorize pairwise_writhe over index arrays\n",
    "    vectorized_writhe = vmap(pairwise_writhe)    \n",
    "    writhe_sum = jnp.sum(vectorized_writhe(i1_indices, i2_indices))\n",
    "\n",
    "    writhe = (1.0 / (2.0 * jnp.pi)) * writhe_sum\n",
    "    return writhe"
   ]
  },
  {
   "cell_type": "markdown",
   "metadata": {},
   "source": [
    "### Shapes"
   ]
  },
  {
   "cell_type": "code",
   "execution_count": 26,
   "metadata": {},
   "outputs": [],
   "source": [
    "#Trefoil Knot\n",
    "def trefoil_shape(spacings, period):\n",
    "    \n",
    "    t_tref = jnp.linspace(0,  period*jnp.pi, spacings)\n",
    "    x = jnp.sin(t_tref) + 2 * jnp.sin(2 * t_tref) #(n,)\n",
    "    y = jnp.cos(t_tref) - 2 * jnp.cos(2 * t_tref) #(n,)\n",
    "    z = jnp.sin(3 * t_tref) #(n,)\n",
    "\n",
    "    positions_trefoil = jnp.vstack([x, y, z]) #(3,n)\n",
    "    positions_trefoil = positions_trefoil.T #(n, 3)\n",
    "    return positions_trefoil\n",
    "\n",
    "#twisted trefoil\n",
    "\n",
    "def twisted_trefoil_shape(spacings, period):\n",
    "    t_tref = jnp.linspace(0, period * jnp.pi, spacings)\n",
    "    x = jnp.sin(t_tref) + 2 * jnp.sin(2 * t_tref)\n",
    "    y = jnp.cos(t_tref) - 2 * jnp.cos(2 * t_tref) + 5 * jnp.sin(5 * t_tref)  # twist\n",
    "    z = jnp.sin(3 * t_tref)\n",
    "\n",
    "    twisted_trefoil = jnp.vstack([x, y, z]).T  # (n, 3)\n",
    "    return twisted_trefoil\n",
    "\n",
    "#Helix\n",
    "# def helix_shape(spacings, period):\n",
    "#     t_hel = jnp.linspace(0, period * jnp.pi, spacings)\n",
    "#     t = jnp.linspace(0, 2 * jnp.pi, n)\n",
    "#     x = jnp.cos(t_hel)\n",
    "#     y = jnp.sin(t_hel)\n",
    "#     z = t\n",
    "#     positions_helix = jnp.vstack([x,y,z])\n",
    "#     positions_helix = positions_helix.T\n",
    "#     return positions_helix\n",
    "\n",
    "\n",
    "##twisted_Helix\n",
    "def twisted_helix_shape(spacings, period):\n",
    "    t = jnp.linspace(0, period * jnp.pi, spacings)\n",
    "    x = jnp.cos(t)\n",
    "    y = jnp.sin(t)\n",
    "    z = t + 5 * jnp.sin(5 * t) \n",
    "    positions_helix = jnp.vstack([x,y,z])\n",
    "    twisted_helix = positions_helix.T\n",
    "    return twisted_helix"
   ]
  },
  {
   "cell_type": "markdown",
   "metadata": {},
   "source": [
    "### Plot Wr vs Segment"
   ]
  },
  {
   "cell_type": "code",
   "execution_count": 27,
   "metadata": {},
   "outputs": [],
   "source": [
    "# @jit\n",
    "def plot_wr_vs_segments(positions, fig_shape:str):\n",
    "    segment_counts = []\n",
    "    writhe_values = []\n",
    "\n",
    "    N = positions.shape[0]\n",
    "\n",
    "    # Loop over increasing number of points in the curve\n",
    "    for k in range(1, N + 1):  \n",
    "        sub_positions = positions[:k+1]\n",
    "\n",
    "        # Compute segment \n",
    "        segments = jnp.diff(sub_positions, axis=0)\n",
    "        num_segments = segments.shape[0]  \n",
    "\n",
    "        # Compute writhe for the current sub-curve\n",
    "        writhe = compute_writhe_chat(sub_positions)\n",
    "\n",
    "        # Store number of segments and writhe value\n",
    "        segment_counts.append(num_segments)\n",
    "        writhe_values.append(writhe)\n",
    "\n",
    "    # Plot the result\n",
    "    fig = go.Figure()\n",
    "    fig.add_trace(go.Scatter(\n",
    "        x=segment_counts,\n",
    "        y=writhe_values,\n",
    "        mode='lines+markers',\n",
    "        name='Writhe vs Segment Count'\n",
    "    ))\n",
    "\n",
    "    fig.update_layout(\n",
    "        title='Writhe vs Number of Segments ({})'.format(fig_shape),\n",
    "        xaxis_title='Number of Segments',\n",
    "        yaxis_title='Writhe',\n",
    "        template='plotly_white'\n",
    "    )\n",
    "\n",
    "    fig.show()\n"
   ]
  },
  {
   "cell_type": "code",
   "execution_count": 28,
   "metadata": {},
   "outputs": [
    {
     "data": {
      "application/vnd.plotly.v1+json": {
       "config": {
        "plotlyServerURL": "https://plot.ly"
       },
       "data": [
        {
         "mode": "lines+markers",
         "name": "Writhe vs Segment Count",
         "type": "scatter",
         "x": [
          1,
          2,
          3,
          4,
          5,
          6,
          7,
          8,
          9,
          10,
          11,
          12,
          13,
          14,
          15,
          16,
          17,
          18,
          19,
          20,
          21,
          22,
          23,
          24,
          25,
          26,
          27,
          28,
          29,
          30,
          31,
          32,
          33,
          34,
          35,
          36,
          37,
          38,
          39,
          40,
          41,
          42,
          43,
          44,
          45,
          46,
          47,
          48,
          49,
          50,
          51,
          52,
          53,
          54,
          55,
          56,
          57,
          58,
          59,
          60,
          61,
          62,
          63,
          64,
          65,
          66,
          67,
          68,
          69,
          70,
          71,
          72,
          73,
          74,
          75,
          76,
          77,
          78,
          79,
          80,
          81,
          82,
          83,
          84,
          85,
          86,
          87,
          88,
          89,
          90,
          91,
          92,
          93,
          94,
          95,
          96,
          97,
          98,
          99,
          99
         ],
         "y": [
          0,
          -2.5353817997020285e-19,
          -0.00001486558561324762,
          -0.00005611803417761971,
          -0.00013457592363781795,
          -0.0002605695657300921,
          -0.00044317659109972173,
          -0.0006883741898474783,
          -0.0009958758602998663,
          -0.0013548360468559882,
          -0.0017396036593084962,
          -0.002107683236856847,
          -0.002401604674663634,
          -0.0025541506797688144,
          -0.0024944488898151923,
          -0.0021526289092347823,
          -0.0014621973808199796,
          -0.0003603998083394545,
          0.001212760483672878,
          0.003316121899326643,
          0.006008864558479566,
          0.009351244486869728,
          0.013404197415288982,
          0.0182282949050099,
          0.023883864142415674,
          0.030434818326403306,
          0.03795746853119365,
          0.04655290551257536,
          0.05635981810097553,
          0.06756404257970557,
          0.08039876675982235,
          0.09512164805392602,
          0.1119407013257328,
          0.13084965583867142,
          0.1513731309498924,
          0.17238746646159775,
          0.19234719450493143,
          0.2099353877356495,
          0.22456302343578416,
          0.23633235411444237,
          0.24571770540592536,
          0.2532980203436267,
          0.25962698250545985,
          0.2651942921200852,
          0.2704236800674464,
          0.27567694785307406,
          0.28125349707802655,
          0.2873869419940367,
          0.2942457445708833,
          0.30194530865564556,
          0.3105757608944962,
          0.32024387439522134,
          0.3311225072027319,
          0.3435006758451698,
          0.3578332153696807,
          0.3747983480337688,
          0.3953813370736162,
          0.421011633981827,
          0.45378766088262357,
          0.4968157018344273,
          0.5546210213322228,
          0.6333249475374183,
          0.7396269504562784,
          0.8771756178476227,
          1.0417669233942934,
          1.2221253224459452,
          1.4063158010650552,
          1.583983384889305,
          1.7441730567159366,
          1.8768043607020128,
          1.9783306318430964,
          2.0525048092168254,
          2.1059665809671104,
          2.1448425123705683,
          2.1737559959458985,
          2.195966802559407,
          2.213746916394032,
          2.228697808520164,
          2.24196232453363,
          2.2543527522874007,
          2.2664284437763347,
          2.2785529941870077,
          2.290952598995578,
          2.3037857046062884,
          2.3172215908138662,
          2.33151738273032,
          2.347084134413726,
          2.3645423087514064,
          2.3847793712110676,
          2.4090323531435263,
          2.439025151315431,
          2.4771928919843242,
          2.527011996671862,
          2.5933781125040336,
          2.6827031603402616,
          2.801759398617805,
          2.9539000640256954,
          3.1342250798422824,
          3.330553863360633,
          3.330553863360633
         ]
        }
       ],
       "layout": {
        "template": {
         "data": {
          "bar": [
           {
            "error_x": {
             "color": "#2a3f5f"
            },
            "error_y": {
             "color": "#2a3f5f"
            },
            "marker": {
             "line": {
              "color": "white",
              "width": 0.5
             },
             "pattern": {
              "fillmode": "overlay",
              "size": 10,
              "solidity": 0.2
             }
            },
            "type": "bar"
           }
          ],
          "barpolar": [
           {
            "marker": {
             "line": {
              "color": "white",
              "width": 0.5
             },
             "pattern": {
              "fillmode": "overlay",
              "size": 10,
              "solidity": 0.2
             }
            },
            "type": "barpolar"
           }
          ],
          "carpet": [
           {
            "aaxis": {
             "endlinecolor": "#2a3f5f",
             "gridcolor": "#C8D4E3",
             "linecolor": "#C8D4E3",
             "minorgridcolor": "#C8D4E3",
             "startlinecolor": "#2a3f5f"
            },
            "baxis": {
             "endlinecolor": "#2a3f5f",
             "gridcolor": "#C8D4E3",
             "linecolor": "#C8D4E3",
             "minorgridcolor": "#C8D4E3",
             "startlinecolor": "#2a3f5f"
            },
            "type": "carpet"
           }
          ],
          "choropleth": [
           {
            "colorbar": {
             "outlinewidth": 0,
             "ticks": ""
            },
            "type": "choropleth"
           }
          ],
          "contour": [
           {
            "colorbar": {
             "outlinewidth": 0,
             "ticks": ""
            },
            "colorscale": [
             [
              0,
              "#0d0887"
             ],
             [
              0.1111111111111111,
              "#46039f"
             ],
             [
              0.2222222222222222,
              "#7201a8"
             ],
             [
              0.3333333333333333,
              "#9c179e"
             ],
             [
              0.4444444444444444,
              "#bd3786"
             ],
             [
              0.5555555555555556,
              "#d8576b"
             ],
             [
              0.6666666666666666,
              "#ed7953"
             ],
             [
              0.7777777777777778,
              "#fb9f3a"
             ],
             [
              0.8888888888888888,
              "#fdca26"
             ],
             [
              1,
              "#f0f921"
             ]
            ],
            "type": "contour"
           }
          ],
          "contourcarpet": [
           {
            "colorbar": {
             "outlinewidth": 0,
             "ticks": ""
            },
            "type": "contourcarpet"
           }
          ],
          "heatmap": [
           {
            "colorbar": {
             "outlinewidth": 0,
             "ticks": ""
            },
            "colorscale": [
             [
              0,
              "#0d0887"
             ],
             [
              0.1111111111111111,
              "#46039f"
             ],
             [
              0.2222222222222222,
              "#7201a8"
             ],
             [
              0.3333333333333333,
              "#9c179e"
             ],
             [
              0.4444444444444444,
              "#bd3786"
             ],
             [
              0.5555555555555556,
              "#d8576b"
             ],
             [
              0.6666666666666666,
              "#ed7953"
             ],
             [
              0.7777777777777778,
              "#fb9f3a"
             ],
             [
              0.8888888888888888,
              "#fdca26"
             ],
             [
              1,
              "#f0f921"
             ]
            ],
            "type": "heatmap"
           }
          ],
          "histogram": [
           {
            "marker": {
             "pattern": {
              "fillmode": "overlay",
              "size": 10,
              "solidity": 0.2
             }
            },
            "type": "histogram"
           }
          ],
          "histogram2d": [
           {
            "colorbar": {
             "outlinewidth": 0,
             "ticks": ""
            },
            "colorscale": [
             [
              0,
              "#0d0887"
             ],
             [
              0.1111111111111111,
              "#46039f"
             ],
             [
              0.2222222222222222,
              "#7201a8"
             ],
             [
              0.3333333333333333,
              "#9c179e"
             ],
             [
              0.4444444444444444,
              "#bd3786"
             ],
             [
              0.5555555555555556,
              "#d8576b"
             ],
             [
              0.6666666666666666,
              "#ed7953"
             ],
             [
              0.7777777777777778,
              "#fb9f3a"
             ],
             [
              0.8888888888888888,
              "#fdca26"
             ],
             [
              1,
              "#f0f921"
             ]
            ],
            "type": "histogram2d"
           }
          ],
          "histogram2dcontour": [
           {
            "colorbar": {
             "outlinewidth": 0,
             "ticks": ""
            },
            "colorscale": [
             [
              0,
              "#0d0887"
             ],
             [
              0.1111111111111111,
              "#46039f"
             ],
             [
              0.2222222222222222,
              "#7201a8"
             ],
             [
              0.3333333333333333,
              "#9c179e"
             ],
             [
              0.4444444444444444,
              "#bd3786"
             ],
             [
              0.5555555555555556,
              "#d8576b"
             ],
             [
              0.6666666666666666,
              "#ed7953"
             ],
             [
              0.7777777777777778,
              "#fb9f3a"
             ],
             [
              0.8888888888888888,
              "#fdca26"
             ],
             [
              1,
              "#f0f921"
             ]
            ],
            "type": "histogram2dcontour"
           }
          ],
          "mesh3d": [
           {
            "colorbar": {
             "outlinewidth": 0,
             "ticks": ""
            },
            "type": "mesh3d"
           }
          ],
          "parcoords": [
           {
            "line": {
             "colorbar": {
              "outlinewidth": 0,
              "ticks": ""
             }
            },
            "type": "parcoords"
           }
          ],
          "pie": [
           {
            "automargin": true,
            "type": "pie"
           }
          ],
          "scatter": [
           {
            "fillpattern": {
             "fillmode": "overlay",
             "size": 10,
             "solidity": 0.2
            },
            "type": "scatter"
           }
          ],
          "scatter3d": [
           {
            "line": {
             "colorbar": {
              "outlinewidth": 0,
              "ticks": ""
             }
            },
            "marker": {
             "colorbar": {
              "outlinewidth": 0,
              "ticks": ""
             }
            },
            "type": "scatter3d"
           }
          ],
          "scattercarpet": [
           {
            "marker": {
             "colorbar": {
              "outlinewidth": 0,
              "ticks": ""
             }
            },
            "type": "scattercarpet"
           }
          ],
          "scattergeo": [
           {
            "marker": {
             "colorbar": {
              "outlinewidth": 0,
              "ticks": ""
             }
            },
            "type": "scattergeo"
           }
          ],
          "scattergl": [
           {
            "marker": {
             "colorbar": {
              "outlinewidth": 0,
              "ticks": ""
             }
            },
            "type": "scattergl"
           }
          ],
          "scattermap": [
           {
            "marker": {
             "colorbar": {
              "outlinewidth": 0,
              "ticks": ""
             }
            },
            "type": "scattermap"
           }
          ],
          "scattermapbox": [
           {
            "marker": {
             "colorbar": {
              "outlinewidth": 0,
              "ticks": ""
             }
            },
            "type": "scattermapbox"
           }
          ],
          "scatterpolar": [
           {
            "marker": {
             "colorbar": {
              "outlinewidth": 0,
              "ticks": ""
             }
            },
            "type": "scatterpolar"
           }
          ],
          "scatterpolargl": [
           {
            "marker": {
             "colorbar": {
              "outlinewidth": 0,
              "ticks": ""
             }
            },
            "type": "scatterpolargl"
           }
          ],
          "scatterternary": [
           {
            "marker": {
             "colorbar": {
              "outlinewidth": 0,
              "ticks": ""
             }
            },
            "type": "scatterternary"
           }
          ],
          "surface": [
           {
            "colorbar": {
             "outlinewidth": 0,
             "ticks": ""
            },
            "colorscale": [
             [
              0,
              "#0d0887"
             ],
             [
              0.1111111111111111,
              "#46039f"
             ],
             [
              0.2222222222222222,
              "#7201a8"
             ],
             [
              0.3333333333333333,
              "#9c179e"
             ],
             [
              0.4444444444444444,
              "#bd3786"
             ],
             [
              0.5555555555555556,
              "#d8576b"
             ],
             [
              0.6666666666666666,
              "#ed7953"
             ],
             [
              0.7777777777777778,
              "#fb9f3a"
             ],
             [
              0.8888888888888888,
              "#fdca26"
             ],
             [
              1,
              "#f0f921"
             ]
            ],
            "type": "surface"
           }
          ],
          "table": [
           {
            "cells": {
             "fill": {
              "color": "#EBF0F8"
             },
             "line": {
              "color": "white"
             }
            },
            "header": {
             "fill": {
              "color": "#C8D4E3"
             },
             "line": {
              "color": "white"
             }
            },
            "type": "table"
           }
          ]
         },
         "layout": {
          "annotationdefaults": {
           "arrowcolor": "#2a3f5f",
           "arrowhead": 0,
           "arrowwidth": 1
          },
          "autotypenumbers": "strict",
          "coloraxis": {
           "colorbar": {
            "outlinewidth": 0,
            "ticks": ""
           }
          },
          "colorscale": {
           "diverging": [
            [
             0,
             "#8e0152"
            ],
            [
             0.1,
             "#c51b7d"
            ],
            [
             0.2,
             "#de77ae"
            ],
            [
             0.3,
             "#f1b6da"
            ],
            [
             0.4,
             "#fde0ef"
            ],
            [
             0.5,
             "#f7f7f7"
            ],
            [
             0.6,
             "#e6f5d0"
            ],
            [
             0.7,
             "#b8e186"
            ],
            [
             0.8,
             "#7fbc41"
            ],
            [
             0.9,
             "#4d9221"
            ],
            [
             1,
             "#276419"
            ]
           ],
           "sequential": [
            [
             0,
             "#0d0887"
            ],
            [
             0.1111111111111111,
             "#46039f"
            ],
            [
             0.2222222222222222,
             "#7201a8"
            ],
            [
             0.3333333333333333,
             "#9c179e"
            ],
            [
             0.4444444444444444,
             "#bd3786"
            ],
            [
             0.5555555555555556,
             "#d8576b"
            ],
            [
             0.6666666666666666,
             "#ed7953"
            ],
            [
             0.7777777777777778,
             "#fb9f3a"
            ],
            [
             0.8888888888888888,
             "#fdca26"
            ],
            [
             1,
             "#f0f921"
            ]
           ],
           "sequentialminus": [
            [
             0,
             "#0d0887"
            ],
            [
             0.1111111111111111,
             "#46039f"
            ],
            [
             0.2222222222222222,
             "#7201a8"
            ],
            [
             0.3333333333333333,
             "#9c179e"
            ],
            [
             0.4444444444444444,
             "#bd3786"
            ],
            [
             0.5555555555555556,
             "#d8576b"
            ],
            [
             0.6666666666666666,
             "#ed7953"
            ],
            [
             0.7777777777777778,
             "#fb9f3a"
            ],
            [
             0.8888888888888888,
             "#fdca26"
            ],
            [
             1,
             "#f0f921"
            ]
           ]
          },
          "colorway": [
           "#636efa",
           "#EF553B",
           "#00cc96",
           "#ab63fa",
           "#FFA15A",
           "#19d3f3",
           "#FF6692",
           "#B6E880",
           "#FF97FF",
           "#FECB52"
          ],
          "font": {
           "color": "#2a3f5f"
          },
          "geo": {
           "bgcolor": "white",
           "lakecolor": "white",
           "landcolor": "white",
           "showlakes": true,
           "showland": true,
           "subunitcolor": "#C8D4E3"
          },
          "hoverlabel": {
           "align": "left"
          },
          "hovermode": "closest",
          "mapbox": {
           "style": "light"
          },
          "paper_bgcolor": "white",
          "plot_bgcolor": "white",
          "polar": {
           "angularaxis": {
            "gridcolor": "#EBF0F8",
            "linecolor": "#EBF0F8",
            "ticks": ""
           },
           "bgcolor": "white",
           "radialaxis": {
            "gridcolor": "#EBF0F8",
            "linecolor": "#EBF0F8",
            "ticks": ""
           }
          },
          "scene": {
           "xaxis": {
            "backgroundcolor": "white",
            "gridcolor": "#DFE8F3",
            "gridwidth": 2,
            "linecolor": "#EBF0F8",
            "showbackground": true,
            "ticks": "",
            "zerolinecolor": "#EBF0F8"
           },
           "yaxis": {
            "backgroundcolor": "white",
            "gridcolor": "#DFE8F3",
            "gridwidth": 2,
            "linecolor": "#EBF0F8",
            "showbackground": true,
            "ticks": "",
            "zerolinecolor": "#EBF0F8"
           },
           "zaxis": {
            "backgroundcolor": "white",
            "gridcolor": "#DFE8F3",
            "gridwidth": 2,
            "linecolor": "#EBF0F8",
            "showbackground": true,
            "ticks": "",
            "zerolinecolor": "#EBF0F8"
           }
          },
          "shapedefaults": {
           "line": {
            "color": "#2a3f5f"
           }
          },
          "ternary": {
           "aaxis": {
            "gridcolor": "#DFE8F3",
            "linecolor": "#A2B1C6",
            "ticks": ""
           },
           "baxis": {
            "gridcolor": "#DFE8F3",
            "linecolor": "#A2B1C6",
            "ticks": ""
           },
           "bgcolor": "white",
           "caxis": {
            "gridcolor": "#DFE8F3",
            "linecolor": "#A2B1C6",
            "ticks": ""
           }
          },
          "title": {
           "x": 0.05
          },
          "xaxis": {
           "automargin": true,
           "gridcolor": "#EBF0F8",
           "linecolor": "#EBF0F8",
           "ticks": "",
           "title": {
            "standoff": 15
           },
           "zerolinecolor": "#EBF0F8",
           "zerolinewidth": 2
          },
          "yaxis": {
           "automargin": true,
           "gridcolor": "#EBF0F8",
           "linecolor": "#EBF0F8",
           "ticks": "",
           "title": {
            "standoff": 15
           },
           "zerolinecolor": "#EBF0F8",
           "zerolinewidth": 2
          }
         }
        },
        "title": {
         "text": "Writhe vs Number of Segments (Trefoil)"
        },
        "xaxis": {
         "title": {
          "text": "Number of Segments"
         }
        },
        "yaxis": {
         "title": {
          "text": "Writhe"
         }
        }
       }
      }
     },
     "metadata": {},
     "output_type": "display_data"
    }
   ],
   "source": [
    "# helix_pos  =helix_shape(100, 2)\n",
    "trefoil_pos = trefoil_shape(100, 2)\n",
    "twis_trefoil_pos = twisted_trefoil_shape(100,2)\n",
    "twis_helix_pos = twisted_helix_shape(100, 2)\n",
    "\n",
    "plot_wr_vs_segments(trefoil_pos, \"Trefoil\")"
   ]
  },
  {
   "cell_type": "markdown",
   "metadata": {},
   "source": [
    "# Plot 1: Writhe vs segment length"
   ]
  },
  {
   "cell_type": "code",
   "execution_count": 29,
   "metadata": {},
   "outputs": [
    {
     "data": {
      "application/vnd.plotly.v1+json": {
       "config": {
        "plotlyServerURL": "https://plot.ly"
       },
       "data": [
        {
         "hoverinfo": "text",
         "line": {
          "width": 2
         },
         "marker": {
          "size": 2
         },
         "mode": "lines+markers",
         "name": "Trefoil Curve",
         "scene": "scene",
         "text": [
          "Segment: 1",
          "Segment: 2",
          "Segment: 3",
          "Segment: 4",
          "Segment: 5",
          "Segment: 6",
          "Segment: 7",
          "Segment: 8",
          "Segment: 9",
          "Segment: 10",
          "Segment: 11",
          "Segment: 12",
          "Segment: 13",
          "Segment: 14",
          "Segment: 15",
          "Segment: 16",
          "Segment: 17",
          "Segment: 18",
          "Segment: 19",
          "Segment: 20",
          "Segment: 21",
          "Segment: 22",
          "Segment: 23",
          "Segment: 24",
          "Segment: 25",
          "Segment: 26",
          "Segment: 27",
          "Segment: 28",
          "Segment: 29",
          "Segment: 30",
          "Segment: 31",
          "Segment: 32",
          "Segment: 33",
          "Segment: 34",
          "Segment: 35",
          "Segment: 36",
          "Segment: 37",
          "Segment: 38",
          "Segment: 39",
          "Segment: 40",
          "Segment: 41",
          "Segment: 42",
          "Segment: 43",
          "Segment: 44",
          "Segment: 45",
          "Segment: 46",
          "Segment: 47",
          "Segment: 48",
          "Segment: 49",
          "Segment: 50",
          "Segment: 51",
          "Segment: 52",
          "Segment: 53",
          "Segment: 54",
          "Segment: 55",
          "Segment: 56",
          "Segment: 57",
          "Segment: 58",
          "Segment: 59",
          "Segment: 60",
          "Segment: 61",
          "Segment: 62",
          "Segment: 63",
          "Segment: 64",
          "Segment: 65",
          "Segment: 66",
          "Segment: 67",
          "Segment: 68",
          "Segment: 69",
          "Segment: 70",
          "Segment: 71",
          "Segment: 72",
          "Segment: 73",
          "Segment: 74",
          "Segment: 75",
          "Segment: 76",
          "Segment: 77",
          "Segment: 78",
          "Segment: 79",
          "Segment: 80",
          "Segment: 81",
          "Segment: 82",
          "Segment: 83",
          "Segment: 84",
          "Segment: 85",
          "Segment: 86",
          "Segment: 87",
          "Segment: 88",
          "Segment: 89",
          "Segment: 90",
          "Segment: 91",
          "Segment: 92",
          "Segment: 93",
          "Segment: 94",
          "Segment: 95",
          "Segment: 96",
          "Segment: 97",
          "Segment: 98",
          "Segment: 99",
          "Segment: 99"
         ],
         "type": "scatter3d",
         "x": {
          "bdata": "AAAAAAAAAABx5S+rUUPUP5Yp2p/aH+Q/H78186nX7T+ziJU1oJPzPzwN49Qw9/c//3wC6XQH/D+o0Fe9obb/P98wi840fAFADOylxRXhAkBQs8QVjgUEQJKTz5oz5gRAQhy9dqSABUCU+X2cj9MFQAIcBAi53gVASHpCk/miBUBGtwFqOiIFQFVSXDBsXwRAVp9YAXpeA0BZAB98OCQCQBKscSZRtgBA6IMc9FQ2/j8IlIUAmrP6P5PtDtaL8/Y/vUBWSg8G8z92np9tI/ftP/ADlxmKyeU/WmqDDWxJ2z+EV1TWA6bGPxjWewVdQrC/QjwBtPCk0r/bq3fc2hjgv939Xu/HQea/rkxY6Hq2679KeHtiuDHwv7jqKL5aHPK/ni6bJhGV878URu0Fxpf0v0uCGFpwIvW/ZqKh5Rk19b+vToyw3NH0v4CSRubX/PO/XJf1QBy88r8OeXpVkBfxv0ImM2qaMe6/NWm78ueV6b8ONjHY+XTkv0DdKF8E1N2/iddOj/wj0r8ynqw0x1m4v1yerDTHWbg/lNdOj/wj0j9K3ShfBNTdPwk2Mdj5dOQ/O2m78ueV6T8+JjNqmjHuPxB5elWQF/E/WJf1QBy88j+Akkbm1/zzP69OjLDc0fQ/ZqKh5Rk19T9MghhacCL1PxRG7QXGl/Q/oC6bJhGV8z+46ii+WhzyP054e2K4MfA/okxY6Hq26z/Y/V7vx0HmP9urd9zaGOA/TjwBtPCk0j+g1XsFXUKwP6BXVNYDpsa/WGqDDWxJ27/mA5cZisnlv4Wen20j9+2/wUBWSg8G87+P7Q7Wi/P2vwCUhQCas/q/7IMc9FQ2/r8SrHEmUbYAwFgAH3w4JALAWJ9YAXpeA8BWUlwwbF8EwEa3AWo6IgXASHpCk/miBcACHAQIud4FwJT5fZyP0wXAQhy9dqSABcCUk8+aM+YEwE6zxBWOBQTADOylxRXhAsDfMIvONHwBwK7QV72htv+/+XwC6XQH/L88DePUMPf3v7aIlTWgk/O/C78186nX7b+MKdqf2h/kv3LlL6tRQ9S/CXPZv68P1rw=",
          "dtype": "f8"
         },
         "y": {
          "bdata": "AAAAAAAA8L87qeRIrozvv94DJhfHNO6/k3mFmmv+67+bw/JhtvPov7sasLeQIuW/DsJL53ec4L8E4pvBZuzWv2zd7qzzHce/AIF3Z+tYhT/su7dAHxDLP+Ysk8fEzNo/pzX/Qz8d5D/Zgs/Hx8jqPzSBYxuFpPA/IGbH/EC/8z/0ehwoT6X2PyTULK8iSPk/NB3ptSia+z9AZ2koA4/9PzTtz5G+G/8/Cf+lGYEbAEDGzQnJnGwAQINAAWdbfgBAsVobmOZOAEAcYwOB47r/P3OwZtZ9VP4/u2dLrz5t/D8P1LJT3wn6P2S52pUfMfc/1pf6M63r8z8MHLg8A0TwP9QEzfKDjOg/8v//////3z+gkV5YqQDMPwiiURL7mbK/LWzfmt2x1782r8LJiG7lv2GNte8t8e6/uIaluwIf9L/yt/8lZJn4v3KHZQsl1/y/MdKCgz9kAMBCvAxbXS8CwGMz/GE1xgPAc8yl6tAiBcBP19s6EUAGwDp05iHEGQfAqkFY2bSsB8CMp6TruPYHwIynpOu49gfAqkFY2bSsB8A4dOYhxBkHwFDX2zoRQAbAcsyl6tAiBcBkM/xhNcYDwEG8DFtdLwLAM9KCgz9kAMBuh2ULJdf8v/a3/yVkmfi/tIaluwIf9L9rjbXvLfHuvy6vwsmIbuW/Q2zfmt2x17/YoVES+5myv3SRXlipAMw/EQAAAAAA4D/aBM3yg4zoPwscuDwDRPA/05f6M63r8z9qudqVHzH3PxHUslPfCfo/u2dLrz5t/D9ysGbWfVT+Px9jA4Hjuv8/sVobmOZOAECDQAFnW34AQMfNCcmcbABACf+lGYEbAEA07c+Rvhv/P0BnaSgDj/0/MB3ptSia+z8i1CyvIkj5P/R6HChPpfY/JGbH/EC/8z8tgWMbhaTwP9OCz8fHyOo/qDX/Qz8d5D/8LJPHxMzaP8y7t0AfEMs/QIB3Z+tYhT9U3e6s8x3Hv/Lhm8Fm7Na/FcJL53ec4L+7GrC3kCLlv5nD8mG28+i/mHmFmmv+67/gAyYXxzTuvzup5EiujO+/AAAAAAAA8L8=",
          "dtype": "f8"
         },
         "z": {
          "bdata": "AAAAAAAAAACRrKCAYjnIP/uTDVNRydc/DFi7+O1M4T8AGD+UIBXmP5ZBRZYBEeo/FCzujrQb7T/fXvqSFBnvP4OsWqO49u8/8EI4BJ6s7z/FU2Jbcj3uP6xMWOh6tus/nyg6uxkv6D/xeLFa9cfjP/KoPlWVU90/vo12/ecH0j/cU0fFl1W4P+pTR8WXVbi/u412/ecH0r/uqD5VlVPdv/N4sVr1x+O/oCg6uxkv6L+oTFjoerbrv8VTYltyPe6/8EI4BJ6s77+DrFqjuPbvv99e+pIUGe+/EizujrQb7b+YQUWWARHqvwAYP5QgFea/Cli7+O1M4b/1kw1TUcnXv4CsoIBiOci//dF15uwsxzyOrKCAYjnIP/yTDVNRydc/B1i7+O1M4T8DGD+UIBXmP5RBRZYBEeo/FizujrQb7T/gXvqSFBnvP4OsWqO49u8/8EI4BJ6s7z/GU2Jbcj3uP69MWOh6tus/oCg6uxkv6D/2eLFa9cfjP+ioPlWVU90/pY12/ecH0j8tVEfFl1W4P/lTR8WXVbi/to12/ecH0r/4qD5VlVPdv/F4sVr1x+O/pig6uxkv6L+rTFjoerbrv8RTYltyPe6/8EI4BJ6s77+DrFqjuPbvv+Fe+pIUGe+/EyzujrQb7b+ZQUWWARHqv/wXP5QgFea/DFi7+O1M4b/rkw1TUcnXv8isoIBiOci//dF15uws1zylrKCAYjnIP/iTDVNRydc/BVi7+O1M4T8BGD+UIBXmP51BRZYBEeo/DyzujrQb7T/fXvqSFBnvP4SsWqO49u8/70I4BJ6s7z/HU2Jbcj3uP7BMWOh6tus/lyg6uxkv6D/5eLFa9cfjP+yoPlWVU90/qI12/ecH0j+/U0fFl1W4P+dTR8WXVbi/so12/ecH0r8RqT5VlVPdv+94sVr1x+O/pSg6uxkv6L+iTFjoerbrv85TYltyPe6/8EI4BJ6s77+ErFqjuPbvv+Je+pIUGe+/FCzujrQb7b+QQUWWARHqvwkYP5QgFea/9Fe7+O1M4b/ukw1TUcnXv9CsoIBiOci/CoqeTDl5yrw=",
          "dtype": "f8"
         }
        },
        {
         "mode": "lines+markers",
         "name": "Writhe",
         "type": "scatter",
         "x": [
          1,
          2,
          3,
          4,
          5,
          6,
          7,
          8,
          9,
          10,
          11,
          12,
          13,
          14,
          15,
          16,
          17,
          18,
          19,
          20,
          21,
          22,
          23,
          24,
          25,
          26,
          27,
          28,
          29,
          30,
          31,
          32,
          33,
          34,
          35,
          36,
          37,
          38,
          39,
          40,
          41,
          42,
          43,
          44,
          45,
          46,
          47,
          48,
          49,
          50,
          51,
          52,
          53,
          54,
          55,
          56,
          57,
          58,
          59,
          60,
          61,
          62,
          63,
          64,
          65,
          66,
          67,
          68,
          69,
          70,
          71,
          72,
          73,
          74,
          75,
          76,
          77,
          78,
          79,
          80,
          81,
          82,
          83,
          84,
          85,
          86,
          87,
          88,
          89,
          90,
          91,
          92,
          93,
          94,
          95,
          96,
          97,
          98,
          99,
          99
         ],
         "xaxis": "x",
         "y": [
          0,
          -2.5353817997020285e-19,
          -0.00001486558561324762,
          -0.00005611803417761971,
          -0.00013457592363781795,
          -0.0002605695657300921,
          -0.00044317659109972173,
          -0.0006883741898474783,
          -0.0009958758602998663,
          -0.0013548360468559882,
          -0.0017396036593084962,
          -0.002107683236856847,
          -0.002401604674663634,
          -0.0025541506797688144,
          -0.0024944488898151923,
          -0.0021526289092347823,
          -0.0014621973808199796,
          -0.0003603998083394545,
          0.001212760483672878,
          0.003316121899326643,
          0.006008864558479566,
          0.009351244486869728,
          0.013404197415288982,
          0.0182282949050099,
          0.023883864142415674,
          0.030434818326403306,
          0.03795746853119365,
          0.04655290551257536,
          0.05635981810097553,
          0.06756404257970557,
          0.08039876675982235,
          0.09512164805392602,
          0.1119407013257328,
          0.13084965583867142,
          0.1513731309498924,
          0.17238746646159775,
          0.19234719450493143,
          0.2099353877356495,
          0.22456302343578416,
          0.23633235411444237,
          0.24571770540592536,
          0.2532980203436267,
          0.25962698250545985,
          0.2651942921200852,
          0.2704236800674464,
          0.27567694785307406,
          0.28125349707802655,
          0.2873869419940367,
          0.2942457445708833,
          0.30194530865564556,
          0.3105757608944962,
          0.32024387439522134,
          0.3311225072027319,
          0.3435006758451698,
          0.3578332153696807,
          0.3747983480337688,
          0.3953813370736162,
          0.421011633981827,
          0.45378766088262357,
          0.4968157018344273,
          0.5546210213322228,
          0.6333249475374183,
          0.7396269504562784,
          0.8771756178476227,
          1.0417669233942934,
          1.2221253224459452,
          1.4063158010650552,
          1.583983384889305,
          1.7441730567159366,
          1.8768043607020128,
          1.9783306318430964,
          2.0525048092168254,
          2.1059665809671104,
          2.1448425123705683,
          2.1737559959458985,
          2.195966802559407,
          2.213746916394032,
          2.228697808520164,
          2.24196232453363,
          2.2543527522874007,
          2.2664284437763347,
          2.2785529941870077,
          2.290952598995578,
          2.3037857046062884,
          2.3172215908138662,
          2.33151738273032,
          2.347084134413726,
          2.3645423087514064,
          2.3847793712110676,
          2.4090323531435263,
          2.439025151315431,
          2.4771928919843242,
          2.527011996671862,
          2.5933781125040336,
          2.6827031603402616,
          2.801759398617805,
          2.9539000640256954,
          3.1342250798422824,
          3.330553863360633,
          3.330553863360633
         ],
         "yaxis": "y"
        },
        {
         "marker": {
          "color": "green",
          "size": 5
         },
         "mode": "markers",
         "name": "trefoil start",
         "scene": "scene",
         "type": "scatter3d",
         "x": [
          0
         ],
         "y": [
          -1
         ],
         "z": [
          0
         ]
        },
        {
         "marker": {
          "color": "red",
          "size": 5
         },
         "mode": "markers",
         "name": "trefoil end",
         "scene": "scene",
         "type": "scatter3d",
         "x": [
          -0.3166088268040631
         ],
         "y": [
          -0.9859229491897062
         ],
         "z": [
          -0.18925124436041196
         ]
        }
       ],
       "layout": {
        "annotations": [
         {
          "font": {
           "size": 16
          },
          "showarrow": false,
          "text": "Trefoil Knot",
          "x": 0.225,
          "xanchor": "center",
          "xref": "paper",
          "y": 1,
          "yanchor": "bottom",
          "yref": "paper"
         },
         {
          "font": {
           "size": 16
          },
          "showarrow": false,
          "text": "Writhe vs Segment Count",
          "x": 0.775,
          "xanchor": "center",
          "xref": "paper",
          "y": 1,
          "yanchor": "bottom",
          "yref": "paper"
         }
        ],
        "height": 600,
        "scene": {
         "domain": {
          "x": [
           0,
           0.45
          ],
          "y": [
           0,
           1
          ]
         }
        },
        "template": {
         "data": {
          "bar": [
           {
            "error_x": {
             "color": "#2a3f5f"
            },
            "error_y": {
             "color": "#2a3f5f"
            },
            "marker": {
             "line": {
              "color": "white",
              "width": 0.5
             },
             "pattern": {
              "fillmode": "overlay",
              "size": 10,
              "solidity": 0.2
             }
            },
            "type": "bar"
           }
          ],
          "barpolar": [
           {
            "marker": {
             "line": {
              "color": "white",
              "width": 0.5
             },
             "pattern": {
              "fillmode": "overlay",
              "size": 10,
              "solidity": 0.2
             }
            },
            "type": "barpolar"
           }
          ],
          "carpet": [
           {
            "aaxis": {
             "endlinecolor": "#2a3f5f",
             "gridcolor": "#C8D4E3",
             "linecolor": "#C8D4E3",
             "minorgridcolor": "#C8D4E3",
             "startlinecolor": "#2a3f5f"
            },
            "baxis": {
             "endlinecolor": "#2a3f5f",
             "gridcolor": "#C8D4E3",
             "linecolor": "#C8D4E3",
             "minorgridcolor": "#C8D4E3",
             "startlinecolor": "#2a3f5f"
            },
            "type": "carpet"
           }
          ],
          "choropleth": [
           {
            "colorbar": {
             "outlinewidth": 0,
             "ticks": ""
            },
            "type": "choropleth"
           }
          ],
          "contour": [
           {
            "colorbar": {
             "outlinewidth": 0,
             "ticks": ""
            },
            "colorscale": [
             [
              0,
              "#0d0887"
             ],
             [
              0.1111111111111111,
              "#46039f"
             ],
             [
              0.2222222222222222,
              "#7201a8"
             ],
             [
              0.3333333333333333,
              "#9c179e"
             ],
             [
              0.4444444444444444,
              "#bd3786"
             ],
             [
              0.5555555555555556,
              "#d8576b"
             ],
             [
              0.6666666666666666,
              "#ed7953"
             ],
             [
              0.7777777777777778,
              "#fb9f3a"
             ],
             [
              0.8888888888888888,
              "#fdca26"
             ],
             [
              1,
              "#f0f921"
             ]
            ],
            "type": "contour"
           }
          ],
          "contourcarpet": [
           {
            "colorbar": {
             "outlinewidth": 0,
             "ticks": ""
            },
            "type": "contourcarpet"
           }
          ],
          "heatmap": [
           {
            "colorbar": {
             "outlinewidth": 0,
             "ticks": ""
            },
            "colorscale": [
             [
              0,
              "#0d0887"
             ],
             [
              0.1111111111111111,
              "#46039f"
             ],
             [
              0.2222222222222222,
              "#7201a8"
             ],
             [
              0.3333333333333333,
              "#9c179e"
             ],
             [
              0.4444444444444444,
              "#bd3786"
             ],
             [
              0.5555555555555556,
              "#d8576b"
             ],
             [
              0.6666666666666666,
              "#ed7953"
             ],
             [
              0.7777777777777778,
              "#fb9f3a"
             ],
             [
              0.8888888888888888,
              "#fdca26"
             ],
             [
              1,
              "#f0f921"
             ]
            ],
            "type": "heatmap"
           }
          ],
          "histogram": [
           {
            "marker": {
             "pattern": {
              "fillmode": "overlay",
              "size": 10,
              "solidity": 0.2
             }
            },
            "type": "histogram"
           }
          ],
          "histogram2d": [
           {
            "colorbar": {
             "outlinewidth": 0,
             "ticks": ""
            },
            "colorscale": [
             [
              0,
              "#0d0887"
             ],
             [
              0.1111111111111111,
              "#46039f"
             ],
             [
              0.2222222222222222,
              "#7201a8"
             ],
             [
              0.3333333333333333,
              "#9c179e"
             ],
             [
              0.4444444444444444,
              "#bd3786"
             ],
             [
              0.5555555555555556,
              "#d8576b"
             ],
             [
              0.6666666666666666,
              "#ed7953"
             ],
             [
              0.7777777777777778,
              "#fb9f3a"
             ],
             [
              0.8888888888888888,
              "#fdca26"
             ],
             [
              1,
              "#f0f921"
             ]
            ],
            "type": "histogram2d"
           }
          ],
          "histogram2dcontour": [
           {
            "colorbar": {
             "outlinewidth": 0,
             "ticks": ""
            },
            "colorscale": [
             [
              0,
              "#0d0887"
             ],
             [
              0.1111111111111111,
              "#46039f"
             ],
             [
              0.2222222222222222,
              "#7201a8"
             ],
             [
              0.3333333333333333,
              "#9c179e"
             ],
             [
              0.4444444444444444,
              "#bd3786"
             ],
             [
              0.5555555555555556,
              "#d8576b"
             ],
             [
              0.6666666666666666,
              "#ed7953"
             ],
             [
              0.7777777777777778,
              "#fb9f3a"
             ],
             [
              0.8888888888888888,
              "#fdca26"
             ],
             [
              1,
              "#f0f921"
             ]
            ],
            "type": "histogram2dcontour"
           }
          ],
          "mesh3d": [
           {
            "colorbar": {
             "outlinewidth": 0,
             "ticks": ""
            },
            "type": "mesh3d"
           }
          ],
          "parcoords": [
           {
            "line": {
             "colorbar": {
              "outlinewidth": 0,
              "ticks": ""
             }
            },
            "type": "parcoords"
           }
          ],
          "pie": [
           {
            "automargin": true,
            "type": "pie"
           }
          ],
          "scatter": [
           {
            "fillpattern": {
             "fillmode": "overlay",
             "size": 10,
             "solidity": 0.2
            },
            "type": "scatter"
           }
          ],
          "scatter3d": [
           {
            "line": {
             "colorbar": {
              "outlinewidth": 0,
              "ticks": ""
             }
            },
            "marker": {
             "colorbar": {
              "outlinewidth": 0,
              "ticks": ""
             }
            },
            "type": "scatter3d"
           }
          ],
          "scattercarpet": [
           {
            "marker": {
             "colorbar": {
              "outlinewidth": 0,
              "ticks": ""
             }
            },
            "type": "scattercarpet"
           }
          ],
          "scattergeo": [
           {
            "marker": {
             "colorbar": {
              "outlinewidth": 0,
              "ticks": ""
             }
            },
            "type": "scattergeo"
           }
          ],
          "scattergl": [
           {
            "marker": {
             "colorbar": {
              "outlinewidth": 0,
              "ticks": ""
             }
            },
            "type": "scattergl"
           }
          ],
          "scattermap": [
           {
            "marker": {
             "colorbar": {
              "outlinewidth": 0,
              "ticks": ""
             }
            },
            "type": "scattermap"
           }
          ],
          "scattermapbox": [
           {
            "marker": {
             "colorbar": {
              "outlinewidth": 0,
              "ticks": ""
             }
            },
            "type": "scattermapbox"
           }
          ],
          "scatterpolar": [
           {
            "marker": {
             "colorbar": {
              "outlinewidth": 0,
              "ticks": ""
             }
            },
            "type": "scatterpolar"
           }
          ],
          "scatterpolargl": [
           {
            "marker": {
             "colorbar": {
              "outlinewidth": 0,
              "ticks": ""
             }
            },
            "type": "scatterpolargl"
           }
          ],
          "scatterternary": [
           {
            "marker": {
             "colorbar": {
              "outlinewidth": 0,
              "ticks": ""
             }
            },
            "type": "scatterternary"
           }
          ],
          "surface": [
           {
            "colorbar": {
             "outlinewidth": 0,
             "ticks": ""
            },
            "colorscale": [
             [
              0,
              "#0d0887"
             ],
             [
              0.1111111111111111,
              "#46039f"
             ],
             [
              0.2222222222222222,
              "#7201a8"
             ],
             [
              0.3333333333333333,
              "#9c179e"
             ],
             [
              0.4444444444444444,
              "#bd3786"
             ],
             [
              0.5555555555555556,
              "#d8576b"
             ],
             [
              0.6666666666666666,
              "#ed7953"
             ],
             [
              0.7777777777777778,
              "#fb9f3a"
             ],
             [
              0.8888888888888888,
              "#fdca26"
             ],
             [
              1,
              "#f0f921"
             ]
            ],
            "type": "surface"
           }
          ],
          "table": [
           {
            "cells": {
             "fill": {
              "color": "#EBF0F8"
             },
             "line": {
              "color": "white"
             }
            },
            "header": {
             "fill": {
              "color": "#C8D4E3"
             },
             "line": {
              "color": "white"
             }
            },
            "type": "table"
           }
          ]
         },
         "layout": {
          "annotationdefaults": {
           "arrowcolor": "#2a3f5f",
           "arrowhead": 0,
           "arrowwidth": 1
          },
          "autotypenumbers": "strict",
          "coloraxis": {
           "colorbar": {
            "outlinewidth": 0,
            "ticks": ""
           }
          },
          "colorscale": {
           "diverging": [
            [
             0,
             "#8e0152"
            ],
            [
             0.1,
             "#c51b7d"
            ],
            [
             0.2,
             "#de77ae"
            ],
            [
             0.3,
             "#f1b6da"
            ],
            [
             0.4,
             "#fde0ef"
            ],
            [
             0.5,
             "#f7f7f7"
            ],
            [
             0.6,
             "#e6f5d0"
            ],
            [
             0.7,
             "#b8e186"
            ],
            [
             0.8,
             "#7fbc41"
            ],
            [
             0.9,
             "#4d9221"
            ],
            [
             1,
             "#276419"
            ]
           ],
           "sequential": [
            [
             0,
             "#0d0887"
            ],
            [
             0.1111111111111111,
             "#46039f"
            ],
            [
             0.2222222222222222,
             "#7201a8"
            ],
            [
             0.3333333333333333,
             "#9c179e"
            ],
            [
             0.4444444444444444,
             "#bd3786"
            ],
            [
             0.5555555555555556,
             "#d8576b"
            ],
            [
             0.6666666666666666,
             "#ed7953"
            ],
            [
             0.7777777777777778,
             "#fb9f3a"
            ],
            [
             0.8888888888888888,
             "#fdca26"
            ],
            [
             1,
             "#f0f921"
            ]
           ],
           "sequentialminus": [
            [
             0,
             "#0d0887"
            ],
            [
             0.1111111111111111,
             "#46039f"
            ],
            [
             0.2222222222222222,
             "#7201a8"
            ],
            [
             0.3333333333333333,
             "#9c179e"
            ],
            [
             0.4444444444444444,
             "#bd3786"
            ],
            [
             0.5555555555555556,
             "#d8576b"
            ],
            [
             0.6666666666666666,
             "#ed7953"
            ],
            [
             0.7777777777777778,
             "#fb9f3a"
            ],
            [
             0.8888888888888888,
             "#fdca26"
            ],
            [
             1,
             "#f0f921"
            ]
           ]
          },
          "colorway": [
           "#636efa",
           "#EF553B",
           "#00cc96",
           "#ab63fa",
           "#FFA15A",
           "#19d3f3",
           "#FF6692",
           "#B6E880",
           "#FF97FF",
           "#FECB52"
          ],
          "font": {
           "color": "#2a3f5f"
          },
          "geo": {
           "bgcolor": "white",
           "lakecolor": "white",
           "landcolor": "white",
           "showlakes": true,
           "showland": true,
           "subunitcolor": "#C8D4E3"
          },
          "hoverlabel": {
           "align": "left"
          },
          "hovermode": "closest",
          "mapbox": {
           "style": "light"
          },
          "paper_bgcolor": "white",
          "plot_bgcolor": "white",
          "polar": {
           "angularaxis": {
            "gridcolor": "#EBF0F8",
            "linecolor": "#EBF0F8",
            "ticks": ""
           },
           "bgcolor": "white",
           "radialaxis": {
            "gridcolor": "#EBF0F8",
            "linecolor": "#EBF0F8",
            "ticks": ""
           }
          },
          "scene": {
           "xaxis": {
            "backgroundcolor": "white",
            "gridcolor": "#DFE8F3",
            "gridwidth": 2,
            "linecolor": "#EBF0F8",
            "showbackground": true,
            "ticks": "",
            "zerolinecolor": "#EBF0F8"
           },
           "yaxis": {
            "backgroundcolor": "white",
            "gridcolor": "#DFE8F3",
            "gridwidth": 2,
            "linecolor": "#EBF0F8",
            "showbackground": true,
            "ticks": "",
            "zerolinecolor": "#EBF0F8"
           },
           "zaxis": {
            "backgroundcolor": "white",
            "gridcolor": "#DFE8F3",
            "gridwidth": 2,
            "linecolor": "#EBF0F8",
            "showbackground": true,
            "ticks": "",
            "zerolinecolor": "#EBF0F8"
           }
          },
          "shapedefaults": {
           "line": {
            "color": "#2a3f5f"
           }
          },
          "ternary": {
           "aaxis": {
            "gridcolor": "#DFE8F3",
            "linecolor": "#A2B1C6",
            "ticks": ""
           },
           "baxis": {
            "gridcolor": "#DFE8F3",
            "linecolor": "#A2B1C6",
            "ticks": ""
           },
           "bgcolor": "white",
           "caxis": {
            "gridcolor": "#DFE8F3",
            "linecolor": "#A2B1C6",
            "ticks": ""
           }
          },
          "title": {
           "x": 0.05
          },
          "xaxis": {
           "automargin": true,
           "gridcolor": "#EBF0F8",
           "linecolor": "#EBF0F8",
           "ticks": "",
           "title": {
            "standoff": 15
           },
           "zerolinecolor": "#EBF0F8",
           "zerolinewidth": 2
          },
          "yaxis": {
           "automargin": true,
           "gridcolor": "#EBF0F8",
           "linecolor": "#EBF0F8",
           "ticks": "",
           "title": {
            "standoff": 15
           },
           "zerolinecolor": "#EBF0F8",
           "zerolinewidth": 2
          }
         }
        },
        "title": {
         "text": "Trefoil Knot and Writhe"
        },
        "width": 1000,
        "xaxis": {
         "anchor": "y",
         "domain": [
          0.55,
          1
         ]
        },
        "yaxis": {
         "anchor": "x",
         "domain": [
          0,
          1
         ]
        }
       }
      }
     },
     "metadata": {},
     "output_type": "display_data"
    }
   ],
   "source": [
    "segment_counts = []\n",
    "writhe_values = []\n",
    "trefoil_pos = trefoil_shape(100,2)\n",
    "# trefoil_pos = helix_shape(100, 8)\n",
    "N = trefoil_pos.shape[0]\n",
    "\n",
    "# Loop over increasing number of points \n",
    "for k in range(1, N + 1):  \n",
    "    sub_positions = trefoil_pos[:k+1]\n",
    "\n",
    "    # Compute segment \n",
    "    segments = jnp.diff(sub_positions, axis=0)\n",
    "    num_segments = segments.shape[0]  \n",
    "\n",
    "    # Compute writhe for the current subsegment\n",
    "    writhe = compute_writhe_chat(sub_positions)\n",
    "\n",
    "    # Store number of segments and writhe value\n",
    "    segment_counts.append(num_segments)\n",
    "    writhe_values.append(writhe.item())\n",
    "\n",
    "#plotly plot\n",
    "fig = make_subplots(rows=1, cols=2,\n",
    "                    specs=[[{\"type\": \"scatter3d\"}, {\"type\": \"xy\"}]],\n",
    "                    subplot_titles=[\"Trefoil Knot\", \"Writhe vs Segment Count\"])\n",
    "\n",
    "# hover_labels = [f\"Segment: {i}\" for i in range(len(trefoil_pos))]\n",
    "hover_labels = [f\"Segment: {i}\" for i in segment_counts]\n",
    "\n",
    "\n",
    "# 3D Knot\n",
    "fig.add_trace(go.Scatter3d(\n",
    "    x=trefoil_pos[:, 0],\n",
    "    y=trefoil_pos[:, 1],\n",
    "    z=trefoil_pos[:, 2],\n",
    "    mode='lines+markers',\n",
    "    marker=dict(size=2),\n",
    "    line=dict(width=2),\n",
    "    name='Trefoil Curve',\n",
    "    text=hover_labels, \n",
    "    hoverinfo='text'\n",
    "), row=1, col=1)\n",
    "\n",
    "# Writhe curve\n",
    "fig.add_trace(go.Scatter(\n",
    "    x=segment_counts,\n",
    "    y=writhe_values,\n",
    "    mode='lines+markers',\n",
    "    name='Writhe'\n",
    "), row=1, col=2)\n",
    "\n",
    "fig.add_trace(go.Scatter3d(\n",
    "    x=[trefoil_pos[0,0]],\n",
    "    y=[trefoil_pos[0,1]],\n",
    "    z=[trefoil_pos[0,2]],\n",
    "    mode=\"markers\",\n",
    "    marker=dict(size=5, color=\"green\"),\n",
    "    name=\"trefoil start\"\n",
    "),row=1, col=1)\n",
    "\n",
    "# End point red\n",
    "fig.add_trace(go.Scatter3d(\n",
    "    x=[trefoil_pos[-2, 0]],\n",
    "    y=[trefoil_pos[-2, 1]],\n",
    "    z=[trefoil_pos[-2, 2]],\n",
    "    mode=\"markers\",\n",
    "    marker=dict(size=5, color=\"red\"),\n",
    "    name=\"trefoil end\"\n",
    "), row=1, col=1)\n",
    "\n",
    "fig.update_layout(\n",
    "    height=600,\n",
    "    width=1000,\n",
    "    title_text=\"Trefoil Knot and Writhe\",\n",
    "    template='plotly_white'\n",
    ")\n",
    "\n",
    "fig.show()\n",
    "#virdis \n"
   ]
  },
  {
   "cell_type": "markdown",
   "metadata": {},
   "source": [
    "# Plot 2: Writhe vs step number"
   ]
  },
  {
   "cell_type": "code",
   "execution_count": 40,
   "metadata": {},
   "outputs": [
    {
     "data": {
      "application/vnd.plotly.v1+json": {
       "config": {
        "plotlyServerURL": "https://plot.ly"
       },
       "data": [
        {
         "hoverinfo": "text",
         "line": {
          "width": 2
         },
         "marker": {
          "size": 2
         },
         "mode": "lines+markers",
         "name": "Trefoil ",
         "scene": "scene",
         "text": [
          "Segment: 0",
          "Segment: 1",
          "Segment: 2",
          "Segment: 3",
          "Segment: 4",
          "Segment: 5",
          "Segment: 6",
          "Segment: 7",
          "Segment: 8",
          "Segment: 9",
          "Segment: 10",
          "Segment: 11",
          "Segment: 12",
          "Segment: 13",
          "Segment: 14",
          "Segment: 15",
          "Segment: 16",
          "Segment: 17",
          "Segment: 18",
          "Segment: 19",
          "Segment: 20",
          "Segment: 21",
          "Segment: 22",
          "Segment: 23",
          "Segment: 24",
          "Segment: 25",
          "Segment: 26",
          "Segment: 27",
          "Segment: 28",
          "Segment: 29",
          "Segment: 30",
          "Segment: 31",
          "Segment: 32",
          "Segment: 33",
          "Segment: 34",
          "Segment: 35",
          "Segment: 36",
          "Segment: 37",
          "Segment: 38",
          "Segment: 39",
          "Segment: 40",
          "Segment: 41",
          "Segment: 42",
          "Segment: 43",
          "Segment: 44",
          "Segment: 45",
          "Segment: 46",
          "Segment: 47",
          "Segment: 48",
          "Segment: 49",
          "Segment: 50",
          "Segment: 51",
          "Segment: 52",
          "Segment: 53",
          "Segment: 54",
          "Segment: 55",
          "Segment: 56",
          "Segment: 57",
          "Segment: 58",
          "Segment: 59",
          "Segment: 60",
          "Segment: 61",
          "Segment: 62",
          "Segment: 63",
          "Segment: 64",
          "Segment: 65",
          "Segment: 66",
          "Segment: 67",
          "Segment: 68",
          "Segment: 69",
          "Segment: 70",
          "Segment: 71",
          "Segment: 72",
          "Segment: 73",
          "Segment: 74",
          "Segment: 75",
          "Segment: 76",
          "Segment: 77",
          "Segment: 78",
          "Segment: 79",
          "Segment: 80",
          "Segment: 81",
          "Segment: 82",
          "Segment: 83",
          "Segment: 84",
          "Segment: 85",
          "Segment: 86",
          "Segment: 87",
          "Segment: 88",
          "Segment: 89",
          "Segment: 90",
          "Segment: 91",
          "Segment: 92",
          "Segment: 93",
          "Segment: 94",
          "Segment: 95",
          "Segment: 96",
          "Segment: 97",
          "Segment: 98",
          "Segment: 99"
         ],
         "type": "scatter3d",
         "x": {
          "bdata": "AAAAAAAAAABx5S+rUUPUP5Yp2p/aH+Q/H78186nX7T+ziJU1oJPzPzwN49Qw9/c//3wC6XQH/D+o0Fe9obb/P98wi840fAFADOylxRXhAkBQs8QVjgUEQJKTz5oz5gRAQhy9dqSABUCU+X2cj9MFQAIcBAi53gVASHpCk/miBUBGtwFqOiIFQFVSXDBsXwRAVp9YAXpeA0BZAB98OCQCQBKscSZRtgBA6IMc9FQ2/j8IlIUAmrP6P5PtDtaL8/Y/vUBWSg8G8z92np9tI/ftP/ADlxmKyeU/WmqDDWxJ2z+EV1TWA6bGPxjWewVdQrC/QjwBtPCk0r/bq3fc2hjgv939Xu/HQea/rkxY6Hq2679KeHtiuDHwv7jqKL5aHPK/ni6bJhGV878URu0Fxpf0v0uCGFpwIvW/ZqKh5Rk19b+vToyw3NH0v4CSRubX/PO/XJf1QBy88r8OeXpVkBfxv0ImM2qaMe6/NWm78ueV6b8ONjHY+XTkv0DdKF8E1N2/iddOj/wj0r8ynqw0x1m4v1yerDTHWbg/lNdOj/wj0j9K3ShfBNTdPwk2Mdj5dOQ/O2m78ueV6T8+JjNqmjHuPxB5elWQF/E/WJf1QBy88j+Akkbm1/zzP69OjLDc0fQ/ZqKh5Rk19T9MghhacCL1PxRG7QXGl/Q/oC6bJhGV8z+46ii+WhzyP054e2K4MfA/okxY6Hq26z/Y/V7vx0HmP9urd9zaGOA/TjwBtPCk0j+g1XsFXUKwP6BXVNYDpsa/WGqDDWxJ27/mA5cZisnlv4Wen20j9+2/wUBWSg8G87+P7Q7Wi/P2vwCUhQCas/q/7IMc9FQ2/r8SrHEmUbYAwFgAH3w4JALAWJ9YAXpeA8BWUlwwbF8EwEa3AWo6IgXASHpCk/miBcACHAQIud4FwJT5fZyP0wXAQhy9dqSABcCUk8+aM+YEwE6zxBWOBQTADOylxRXhAsDfMIvONHwBwK7QV72htv+/+XwC6XQH/L88DePUMPf3v7aIlTWgk/O/C78186nX7b+MKdqf2h/kv3LlL6tRQ9S/CXPZv68P1rw=",
          "dtype": "f8"
         },
         "y": {
          "bdata": "AAAAAAAA8L87qeRIrozvv94DJhfHNO6/k3mFmmv+67+bw/JhtvPov7sasLeQIuW/DsJL53ec4L8E4pvBZuzWv2zd7qzzHce/AIF3Z+tYhT/su7dAHxDLP+Ysk8fEzNo/pzX/Qz8d5D/Zgs/Hx8jqPzSBYxuFpPA/IGbH/EC/8z/0ehwoT6X2PyTULK8iSPk/NB3ptSia+z9AZ2koA4/9PzTtz5G+G/8/Cf+lGYEbAEDGzQnJnGwAQINAAWdbfgBAsVobmOZOAEAcYwOB47r/P3OwZtZ9VP4/u2dLrz5t/D8P1LJT3wn6P2S52pUfMfc/1pf6M63r8z8MHLg8A0TwP9QEzfKDjOg/8v//////3z+gkV5YqQDMPwiiURL7mbK/LWzfmt2x1782r8LJiG7lv2GNte8t8e6/uIaluwIf9L/yt/8lZJn4v3KHZQsl1/y/MdKCgz9kAMBCvAxbXS8CwGMz/GE1xgPAc8yl6tAiBcBP19s6EUAGwDp05iHEGQfAqkFY2bSsB8CMp6TruPYHwIynpOu49gfAqkFY2bSsB8A4dOYhxBkHwFDX2zoRQAbAcsyl6tAiBcBkM/xhNcYDwEG8DFtdLwLAM9KCgz9kAMBuh2ULJdf8v/a3/yVkmfi/tIaluwIf9L9rjbXvLfHuvy6vwsmIbuW/Q2zfmt2x17/YoVES+5myv3SRXlipAMw/EQAAAAAA4D/aBM3yg4zoPwscuDwDRPA/05f6M63r8z9qudqVHzH3PxHUslPfCfo/u2dLrz5t/D9ysGbWfVT+Px9jA4Hjuv8/sVobmOZOAECDQAFnW34AQMfNCcmcbABACf+lGYEbAEA07c+Rvhv/P0BnaSgDj/0/MB3ptSia+z8i1CyvIkj5P/R6HChPpfY/JGbH/EC/8z8tgWMbhaTwP9OCz8fHyOo/qDX/Qz8d5D/8LJPHxMzaP8y7t0AfEMs/QIB3Z+tYhT9U3e6s8x3Hv/Lhm8Fm7Na/FcJL53ec4L+7GrC3kCLlv5nD8mG28+i/mHmFmmv+67/gAyYXxzTuvzup5EiujO+/AAAAAAAA8L8=",
          "dtype": "f8"
         },
         "z": {
          "bdata": "AAAAAAAAAACRrKCAYjnIP/uTDVNRydc/DFi7+O1M4T8AGD+UIBXmP5ZBRZYBEeo/FCzujrQb7T/fXvqSFBnvP4OsWqO49u8/8EI4BJ6s7z/FU2Jbcj3uP6xMWOh6tus/nyg6uxkv6D/xeLFa9cfjP/KoPlWVU90/vo12/ecH0j/cU0fFl1W4P+pTR8WXVbi/u412/ecH0r/uqD5VlVPdv/N4sVr1x+O/oCg6uxkv6L+oTFjoerbrv8VTYltyPe6/8EI4BJ6s77+DrFqjuPbvv99e+pIUGe+/EizujrQb7b+YQUWWARHqvwAYP5QgFea/Cli7+O1M4b/1kw1TUcnXv4CsoIBiOci//dF15uwsxzyOrKCAYjnIP/yTDVNRydc/B1i7+O1M4T8DGD+UIBXmP5RBRZYBEeo/FizujrQb7T/gXvqSFBnvP4OsWqO49u8/8EI4BJ6s7z/GU2Jbcj3uP69MWOh6tus/oCg6uxkv6D/2eLFa9cfjP+ioPlWVU90/pY12/ecH0j8tVEfFl1W4P/lTR8WXVbi/to12/ecH0r/4qD5VlVPdv/F4sVr1x+O/pig6uxkv6L+rTFjoerbrv8RTYltyPe6/8EI4BJ6s77+DrFqjuPbvv+Fe+pIUGe+/EyzujrQb7b+ZQUWWARHqv/wXP5QgFea/DFi7+O1M4b/rkw1TUcnXv8isoIBiOci//dF15uws1zylrKCAYjnIP/iTDVNRydc/BVi7+O1M4T8BGD+UIBXmP51BRZYBEeo/DyzujrQb7T/fXvqSFBnvP4SsWqO49u8/70I4BJ6s7z/HU2Jbcj3uP7BMWOh6tus/lyg6uxkv6D/5eLFa9cfjP+yoPlWVU90/qI12/ecH0j+/U0fFl1W4P+dTR8WXVbi/so12/ecH0r8RqT5VlVPdv+94sVr1x+O/pSg6uxkv6L+iTFjoerbrv85TYltyPe6/8EI4BJ6s77+ErFqjuPbvv+Je+pIUGe+/FCzujrQb7b+QQUWWARHqvwkYP5QgFea/9Fe7+O1M4b/ukw1TUcnXv9CsoIBiOci/CoqeTDl5yrw=",
          "dtype": "f8"
         }
        },
        {
         "marker": {
          "color": "green",
          "size": 5
         },
         "mode": "markers",
         "name": "Start Point",
         "scene": "scene",
         "type": "scatter3d",
         "x": [
          0
         ],
         "y": [
          -1
         ],
         "z": [
          0
         ]
        },
        {
         "marker": {
          "color": "red",
          "size": 5
         },
         "mode": "markers",
         "name": "Before End",
         "scene": "scene",
         "type": "scatter3d",
         "x": [
          -0.3166088268040631
         ],
         "y": [
          -0.9859229491897062
         ],
         "z": [
          -0.18925124436041196
         ]
        },
        {
         "mode": "lines+markers",
         "name": "Writhe",
         "type": "scatter",
         "x": [
          10,
          20,
          30,
          40,
          50,
          60,
          70,
          80,
          90,
          100
         ],
         "xaxis": "x",
         "y": [
          1.4540920068408625,
          2.7539591086836896,
          3.088024534933299,
          3.205096740744572,
          3.2586914569922474,
          3.2880590110132126,
          3.305720574907849,
          3.3171544427176176,
          3.3249734371280777,
          3.330553863360633
         ],
         "yaxis": "y"
        }
       ],
       "layout": {
        "annotations": [
         {
          "font": {
           "size": 16
          },
          "showarrow": false,
          "text": "Trefoil Knot ",
          "x": 0.225,
          "xanchor": "center",
          "xref": "paper",
          "y": 1,
          "yanchor": "bottom",
          "yref": "paper"
         },
         {
          "font": {
           "size": 16
          },
          "showarrow": false,
          "text": "Writhe vs Point Count",
          "x": 0.775,
          "xanchor": "center",
          "xref": "paper",
          "y": 1,
          "yanchor": "bottom",
          "yref": "paper"
         }
        ],
        "height": 600,
        "scene": {
         "domain": {
          "x": [
           0,
           0.45
          ],
          "y": [
           0,
           1
          ]
         }
        },
        "template": {
         "data": {
          "bar": [
           {
            "error_x": {
             "color": "#2a3f5f"
            },
            "error_y": {
             "color": "#2a3f5f"
            },
            "marker": {
             "line": {
              "color": "white",
              "width": 0.5
             },
             "pattern": {
              "fillmode": "overlay",
              "size": 10,
              "solidity": 0.2
             }
            },
            "type": "bar"
           }
          ],
          "barpolar": [
           {
            "marker": {
             "line": {
              "color": "white",
              "width": 0.5
             },
             "pattern": {
              "fillmode": "overlay",
              "size": 10,
              "solidity": 0.2
             }
            },
            "type": "barpolar"
           }
          ],
          "carpet": [
           {
            "aaxis": {
             "endlinecolor": "#2a3f5f",
             "gridcolor": "#C8D4E3",
             "linecolor": "#C8D4E3",
             "minorgridcolor": "#C8D4E3",
             "startlinecolor": "#2a3f5f"
            },
            "baxis": {
             "endlinecolor": "#2a3f5f",
             "gridcolor": "#C8D4E3",
             "linecolor": "#C8D4E3",
             "minorgridcolor": "#C8D4E3",
             "startlinecolor": "#2a3f5f"
            },
            "type": "carpet"
           }
          ],
          "choropleth": [
           {
            "colorbar": {
             "outlinewidth": 0,
             "ticks": ""
            },
            "type": "choropleth"
           }
          ],
          "contour": [
           {
            "colorbar": {
             "outlinewidth": 0,
             "ticks": ""
            },
            "colorscale": [
             [
              0,
              "#0d0887"
             ],
             [
              0.1111111111111111,
              "#46039f"
             ],
             [
              0.2222222222222222,
              "#7201a8"
             ],
             [
              0.3333333333333333,
              "#9c179e"
             ],
             [
              0.4444444444444444,
              "#bd3786"
             ],
             [
              0.5555555555555556,
              "#d8576b"
             ],
             [
              0.6666666666666666,
              "#ed7953"
             ],
             [
              0.7777777777777778,
              "#fb9f3a"
             ],
             [
              0.8888888888888888,
              "#fdca26"
             ],
             [
              1,
              "#f0f921"
             ]
            ],
            "type": "contour"
           }
          ],
          "contourcarpet": [
           {
            "colorbar": {
             "outlinewidth": 0,
             "ticks": ""
            },
            "type": "contourcarpet"
           }
          ],
          "heatmap": [
           {
            "colorbar": {
             "outlinewidth": 0,
             "ticks": ""
            },
            "colorscale": [
             [
              0,
              "#0d0887"
             ],
             [
              0.1111111111111111,
              "#46039f"
             ],
             [
              0.2222222222222222,
              "#7201a8"
             ],
             [
              0.3333333333333333,
              "#9c179e"
             ],
             [
              0.4444444444444444,
              "#bd3786"
             ],
             [
              0.5555555555555556,
              "#d8576b"
             ],
             [
              0.6666666666666666,
              "#ed7953"
             ],
             [
              0.7777777777777778,
              "#fb9f3a"
             ],
             [
              0.8888888888888888,
              "#fdca26"
             ],
             [
              1,
              "#f0f921"
             ]
            ],
            "type": "heatmap"
           }
          ],
          "histogram": [
           {
            "marker": {
             "pattern": {
              "fillmode": "overlay",
              "size": 10,
              "solidity": 0.2
             }
            },
            "type": "histogram"
           }
          ],
          "histogram2d": [
           {
            "colorbar": {
             "outlinewidth": 0,
             "ticks": ""
            },
            "colorscale": [
             [
              0,
              "#0d0887"
             ],
             [
              0.1111111111111111,
              "#46039f"
             ],
             [
              0.2222222222222222,
              "#7201a8"
             ],
             [
              0.3333333333333333,
              "#9c179e"
             ],
             [
              0.4444444444444444,
              "#bd3786"
             ],
             [
              0.5555555555555556,
              "#d8576b"
             ],
             [
              0.6666666666666666,
              "#ed7953"
             ],
             [
              0.7777777777777778,
              "#fb9f3a"
             ],
             [
              0.8888888888888888,
              "#fdca26"
             ],
             [
              1,
              "#f0f921"
             ]
            ],
            "type": "histogram2d"
           }
          ],
          "histogram2dcontour": [
           {
            "colorbar": {
             "outlinewidth": 0,
             "ticks": ""
            },
            "colorscale": [
             [
              0,
              "#0d0887"
             ],
             [
              0.1111111111111111,
              "#46039f"
             ],
             [
              0.2222222222222222,
              "#7201a8"
             ],
             [
              0.3333333333333333,
              "#9c179e"
             ],
             [
              0.4444444444444444,
              "#bd3786"
             ],
             [
              0.5555555555555556,
              "#d8576b"
             ],
             [
              0.6666666666666666,
              "#ed7953"
             ],
             [
              0.7777777777777778,
              "#fb9f3a"
             ],
             [
              0.8888888888888888,
              "#fdca26"
             ],
             [
              1,
              "#f0f921"
             ]
            ],
            "type": "histogram2dcontour"
           }
          ],
          "mesh3d": [
           {
            "colorbar": {
             "outlinewidth": 0,
             "ticks": ""
            },
            "type": "mesh3d"
           }
          ],
          "parcoords": [
           {
            "line": {
             "colorbar": {
              "outlinewidth": 0,
              "ticks": ""
             }
            },
            "type": "parcoords"
           }
          ],
          "pie": [
           {
            "automargin": true,
            "type": "pie"
           }
          ],
          "scatter": [
           {
            "fillpattern": {
             "fillmode": "overlay",
             "size": 10,
             "solidity": 0.2
            },
            "type": "scatter"
           }
          ],
          "scatter3d": [
           {
            "line": {
             "colorbar": {
              "outlinewidth": 0,
              "ticks": ""
             }
            },
            "marker": {
             "colorbar": {
              "outlinewidth": 0,
              "ticks": ""
             }
            },
            "type": "scatter3d"
           }
          ],
          "scattercarpet": [
           {
            "marker": {
             "colorbar": {
              "outlinewidth": 0,
              "ticks": ""
             }
            },
            "type": "scattercarpet"
           }
          ],
          "scattergeo": [
           {
            "marker": {
             "colorbar": {
              "outlinewidth": 0,
              "ticks": ""
             }
            },
            "type": "scattergeo"
           }
          ],
          "scattergl": [
           {
            "marker": {
             "colorbar": {
              "outlinewidth": 0,
              "ticks": ""
             }
            },
            "type": "scattergl"
           }
          ],
          "scattermap": [
           {
            "marker": {
             "colorbar": {
              "outlinewidth": 0,
              "ticks": ""
             }
            },
            "type": "scattermap"
           }
          ],
          "scattermapbox": [
           {
            "marker": {
             "colorbar": {
              "outlinewidth": 0,
              "ticks": ""
             }
            },
            "type": "scattermapbox"
           }
          ],
          "scatterpolar": [
           {
            "marker": {
             "colorbar": {
              "outlinewidth": 0,
              "ticks": ""
             }
            },
            "type": "scatterpolar"
           }
          ],
          "scatterpolargl": [
           {
            "marker": {
             "colorbar": {
              "outlinewidth": 0,
              "ticks": ""
             }
            },
            "type": "scatterpolargl"
           }
          ],
          "scatterternary": [
           {
            "marker": {
             "colorbar": {
              "outlinewidth": 0,
              "ticks": ""
             }
            },
            "type": "scatterternary"
           }
          ],
          "surface": [
           {
            "colorbar": {
             "outlinewidth": 0,
             "ticks": ""
            },
            "colorscale": [
             [
              0,
              "#0d0887"
             ],
             [
              0.1111111111111111,
              "#46039f"
             ],
             [
              0.2222222222222222,
              "#7201a8"
             ],
             [
              0.3333333333333333,
              "#9c179e"
             ],
             [
              0.4444444444444444,
              "#bd3786"
             ],
             [
              0.5555555555555556,
              "#d8576b"
             ],
             [
              0.6666666666666666,
              "#ed7953"
             ],
             [
              0.7777777777777778,
              "#fb9f3a"
             ],
             [
              0.8888888888888888,
              "#fdca26"
             ],
             [
              1,
              "#f0f921"
             ]
            ],
            "type": "surface"
           }
          ],
          "table": [
           {
            "cells": {
             "fill": {
              "color": "#EBF0F8"
             },
             "line": {
              "color": "white"
             }
            },
            "header": {
             "fill": {
              "color": "#C8D4E3"
             },
             "line": {
              "color": "white"
             }
            },
            "type": "table"
           }
          ]
         },
         "layout": {
          "annotationdefaults": {
           "arrowcolor": "#2a3f5f",
           "arrowhead": 0,
           "arrowwidth": 1
          },
          "autotypenumbers": "strict",
          "coloraxis": {
           "colorbar": {
            "outlinewidth": 0,
            "ticks": ""
           }
          },
          "colorscale": {
           "diverging": [
            [
             0,
             "#8e0152"
            ],
            [
             0.1,
             "#c51b7d"
            ],
            [
             0.2,
             "#de77ae"
            ],
            [
             0.3,
             "#f1b6da"
            ],
            [
             0.4,
             "#fde0ef"
            ],
            [
             0.5,
             "#f7f7f7"
            ],
            [
             0.6,
             "#e6f5d0"
            ],
            [
             0.7,
             "#b8e186"
            ],
            [
             0.8,
             "#7fbc41"
            ],
            [
             0.9,
             "#4d9221"
            ],
            [
             1,
             "#276419"
            ]
           ],
           "sequential": [
            [
             0,
             "#0d0887"
            ],
            [
             0.1111111111111111,
             "#46039f"
            ],
            [
             0.2222222222222222,
             "#7201a8"
            ],
            [
             0.3333333333333333,
             "#9c179e"
            ],
            [
             0.4444444444444444,
             "#bd3786"
            ],
            [
             0.5555555555555556,
             "#d8576b"
            ],
            [
             0.6666666666666666,
             "#ed7953"
            ],
            [
             0.7777777777777778,
             "#fb9f3a"
            ],
            [
             0.8888888888888888,
             "#fdca26"
            ],
            [
             1,
             "#f0f921"
            ]
           ],
           "sequentialminus": [
            [
             0,
             "#0d0887"
            ],
            [
             0.1111111111111111,
             "#46039f"
            ],
            [
             0.2222222222222222,
             "#7201a8"
            ],
            [
             0.3333333333333333,
             "#9c179e"
            ],
            [
             0.4444444444444444,
             "#bd3786"
            ],
            [
             0.5555555555555556,
             "#d8576b"
            ],
            [
             0.6666666666666666,
             "#ed7953"
            ],
            [
             0.7777777777777778,
             "#fb9f3a"
            ],
            [
             0.8888888888888888,
             "#fdca26"
            ],
            [
             1,
             "#f0f921"
            ]
           ]
          },
          "colorway": [
           "#636efa",
           "#EF553B",
           "#00cc96",
           "#ab63fa",
           "#FFA15A",
           "#19d3f3",
           "#FF6692",
           "#B6E880",
           "#FF97FF",
           "#FECB52"
          ],
          "font": {
           "color": "#2a3f5f"
          },
          "geo": {
           "bgcolor": "white",
           "lakecolor": "white",
           "landcolor": "white",
           "showlakes": true,
           "showland": true,
           "subunitcolor": "#C8D4E3"
          },
          "hoverlabel": {
           "align": "left"
          },
          "hovermode": "closest",
          "mapbox": {
           "style": "light"
          },
          "paper_bgcolor": "white",
          "plot_bgcolor": "white",
          "polar": {
           "angularaxis": {
            "gridcolor": "#EBF0F8",
            "linecolor": "#EBF0F8",
            "ticks": ""
           },
           "bgcolor": "white",
           "radialaxis": {
            "gridcolor": "#EBF0F8",
            "linecolor": "#EBF0F8",
            "ticks": ""
           }
          },
          "scene": {
           "xaxis": {
            "backgroundcolor": "white",
            "gridcolor": "#DFE8F3",
            "gridwidth": 2,
            "linecolor": "#EBF0F8",
            "showbackground": true,
            "ticks": "",
            "zerolinecolor": "#EBF0F8"
           },
           "yaxis": {
            "backgroundcolor": "white",
            "gridcolor": "#DFE8F3",
            "gridwidth": 2,
            "linecolor": "#EBF0F8",
            "showbackground": true,
            "ticks": "",
            "zerolinecolor": "#EBF0F8"
           },
           "zaxis": {
            "backgroundcolor": "white",
            "gridcolor": "#DFE8F3",
            "gridwidth": 2,
            "linecolor": "#EBF0F8",
            "showbackground": true,
            "ticks": "",
            "zerolinecolor": "#EBF0F8"
           }
          },
          "shapedefaults": {
           "line": {
            "color": "#2a3f5f"
           }
          },
          "ternary": {
           "aaxis": {
            "gridcolor": "#DFE8F3",
            "linecolor": "#A2B1C6",
            "ticks": ""
           },
           "baxis": {
            "gridcolor": "#DFE8F3",
            "linecolor": "#A2B1C6",
            "ticks": ""
           },
           "bgcolor": "white",
           "caxis": {
            "gridcolor": "#DFE8F3",
            "linecolor": "#A2B1C6",
            "ticks": ""
           }
          },
          "title": {
           "x": 0.05
          },
          "xaxis": {
           "automargin": true,
           "gridcolor": "#EBF0F8",
           "linecolor": "#EBF0F8",
           "ticks": "",
           "title": {
            "standoff": 15
           },
           "zerolinecolor": "#EBF0F8",
           "zerolinewidth": 2
          },
          "yaxis": {
           "automargin": true,
           "gridcolor": "#EBF0F8",
           "linecolor": "#EBF0F8",
           "ticks": "",
           "title": {
            "standoff": 15
           },
           "zerolinecolor": "#EBF0F8",
           "zerolinewidth": 2
          }
         }
        },
        "width": 1000,
        "xaxis": {
         "anchor": "y",
         "domain": [
          0.55,
          1
         ]
        },
        "yaxis": {
         "anchor": "x",
         "domain": [
          0,
          1
         ]
        }
       }
      }
     },
     "metadata": {},
     "output_type": "display_data"
    }
   ],
   "source": [
    "\n",
    "# Compute writhe for increasing resolutions\n",
    "resolutions = list(range(10, 101, 10))\n",
    "writhe_values = []\n",
    "\n",
    "for n in resolutions:\n",
    "    positions = trefoil_shape(n, period=2)\n",
    "    # positions = helix_shape(n, 8)\n",
    "\n",
    "    writhe = compute_writhe_chat(positions)\n",
    "    writhe_values.append(writhe.item())\n",
    "\n",
    "trefoil_pos = positions \n",
    "\n",
    "# Plot using Plotly subplots\n",
    "fig = make_subplots(\n",
    "    rows=1, cols=2,\n",
    "    specs=[[{\"type\": \"scatter3d\"}, {\"type\": \"xy\"}]],\n",
    "    subplot_titles=[\"Trefoil Knot \", \"Writhe vs Point Count\"]\n",
    ")\n",
    "\n",
    "# 3D Trefoil\n",
    "hover_labels = [f\"Segment: {i}\" for i in range(len(trefoil_pos))]\n",
    "\n",
    "fig.add_trace(go.Scatter3d(\n",
    "    x=trefoil_pos[:, 0],\n",
    "    y=trefoil_pos[:, 1],\n",
    "    z=trefoil_pos[:, 2],\n",
    "    mode=\"lines+markers\",\n",
    "    marker=dict(size=2),\n",
    "    line=dict(width=2),\n",
    "    text=hover_labels,\n",
    "    hoverinfo='text',\n",
    "    name=\"Trefoil \"\n",
    "), row=1, col=1)\n",
    "\n",
    "# Start and near-end markers\n",
    "fig.add_trace(go.Scatter3d(\n",
    "    x=[trefoil_pos[0, 0]],\n",
    "    y=[trefoil_pos[0, 1]],\n",
    "    z=[trefoil_pos[0, 2]],\n",
    "    mode=\"markers\",\n",
    "    marker=dict(size=5, color=\"green\"),\n",
    "    name=\"Start Point\"\n",
    "), row=1, col=1)\n",
    "\n",
    "fig.add_trace(go.Scatter3d(\n",
    "    x=[trefoil_pos[-2, 0]],\n",
    "    y=[trefoil_pos[-2, 1]],\n",
    "    z=[trefoil_pos[-2, 2]],\n",
    "    mode=\"markers\",\n",
    "    marker=dict(size=5, color=\"red\"),\n",
    "    name=\"Before End\"\n",
    "), row=1, col=1)\n",
    "\n",
    "# Writhe vs Resolution (right subplot)\n",
    "fig.add_trace(go.Scatter(\n",
    "    x=resolutions,\n",
    "    y=writhe_values,\n",
    "    mode='lines+markers',\n",
    "    name='Writhe'\n",
    "), row=1, col=2)\n",
    "\n",
    "fig.update_layout(\n",
    "    height=600,\n",
    "    width=1000,\n",
    "    \n",
    "    template='plotly_white'\n",
    ")\n",
    "\n",
    "fig.show()\n"
   ]
  },
  {
   "cell_type": "markdown",
   "metadata": {},
   "source": [
    "### Writhe vs figure scale"
   ]
  },
  {
   "cell_type": "code",
   "execution_count": 31,
   "metadata": {},
   "outputs": [
    {
     "data": {
      "application/vnd.plotly.v1+json": {
       "config": {
        "plotlyServerURL": "https://plot.ly"
       },
       "data": [
        {
         "mode": "lines+markers",
         "name": "Writhe vs Scaling",
         "type": "scatter",
         "x": {
          "bdata": "AAAAAAAAEMCsD431obEOwFgfGutDYw3ABi+n4OUUDMCyPjTWh8YKwF5OwcspeAnACl5OwcspCMC4bdu2bdsGwGR9aKwPjQXAEI31obE+BMC8nIKXU/ACwGisD431oQHAFrycgpdTAMCEl1Pwcgr+v9y2bdu2bfu/NdaHxvrQ+L+P9aGxPjT2v+cUvJyCl/O/QDTWh8b68L8wp+DlFLzsv+LlFLycgue/liRJkiRJ4r+QxvrQWB/av+CHxvrQWM+/QAUvp+DltL8wBS+n4OW0P8iHxvrQWM8/gMb60Fgf2j+QJEmSJEniP97lFLycguc/Kqfg5RS87D88NNaHxvrwP+QUvJyCl/M/jPWhsT409j8z1ofG+tD4P9m2bdu2bfs/gJdT8HIK/j8UvJyCl1MAQGisD431oQFAupyCl1PwAkAOjfWhsT4EQGJ9aKwPjQVAtm3btm3bBkAKXk7ByykIQFxOwcspeAlAsD401ofGCkAEL6fg5RQMQFgfGutDYw1ArA+N9aGxDkAAAAAAAAAQQA==",
          "dtype": "f8"
         },
         "y": [
          -3.330553863360633,
          -3.330553863360633,
          -3.330553863360633,
          -3.330553863360633,
          -3.330553863360633,
          -3.330553863360633,
          -3.330553863360633,
          -3.330553863360633,
          -3.330553863360633,
          -3.330553863360633,
          -3.330553863360633,
          -3.330553863360633,
          -3.330553863360633,
          -3.330553863360633,
          -3.3305538633606337,
          -3.330553863360633,
          -3.330553863360633,
          -3.330553863360633,
          -3.330553863360633,
          -3.330553863360633,
          -3.330553863360633,
          -3.330553863360633,
          -3.330553863360633,
          -3.330553863360633,
          -3.330553863360633,
          3.330553863360633,
          3.330553863360633,
          3.330553863360633,
          3.330553863360633,
          3.330553863360633,
          3.330553863360633,
          3.330553863360633,
          3.330553863360633,
          3.330553863360633,
          3.330553863360633,
          3.330553863360633,
          3.330553863360633,
          3.330553863360633,
          3.330553863360633,
          3.330553863360633,
          3.330553863360633,
          3.330553863360633,
          3.330553863360633,
          3.330553863360633,
          3.330553863360633,
          3.330553863360633,
          3.330553863360633,
          3.330553863360633,
          3.330553863360633,
          3.330553863360633
         ]
        }
       ],
       "layout": {
        "template": {
         "data": {
          "bar": [
           {
            "error_x": {
             "color": "#2a3f5f"
            },
            "error_y": {
             "color": "#2a3f5f"
            },
            "marker": {
             "line": {
              "color": "white",
              "width": 0.5
             },
             "pattern": {
              "fillmode": "overlay",
              "size": 10,
              "solidity": 0.2
             }
            },
            "type": "bar"
           }
          ],
          "barpolar": [
           {
            "marker": {
             "line": {
              "color": "white",
              "width": 0.5
             },
             "pattern": {
              "fillmode": "overlay",
              "size": 10,
              "solidity": 0.2
             }
            },
            "type": "barpolar"
           }
          ],
          "carpet": [
           {
            "aaxis": {
             "endlinecolor": "#2a3f5f",
             "gridcolor": "#C8D4E3",
             "linecolor": "#C8D4E3",
             "minorgridcolor": "#C8D4E3",
             "startlinecolor": "#2a3f5f"
            },
            "baxis": {
             "endlinecolor": "#2a3f5f",
             "gridcolor": "#C8D4E3",
             "linecolor": "#C8D4E3",
             "minorgridcolor": "#C8D4E3",
             "startlinecolor": "#2a3f5f"
            },
            "type": "carpet"
           }
          ],
          "choropleth": [
           {
            "colorbar": {
             "outlinewidth": 0,
             "ticks": ""
            },
            "type": "choropleth"
           }
          ],
          "contour": [
           {
            "colorbar": {
             "outlinewidth": 0,
             "ticks": ""
            },
            "colorscale": [
             [
              0,
              "#0d0887"
             ],
             [
              0.1111111111111111,
              "#46039f"
             ],
             [
              0.2222222222222222,
              "#7201a8"
             ],
             [
              0.3333333333333333,
              "#9c179e"
             ],
             [
              0.4444444444444444,
              "#bd3786"
             ],
             [
              0.5555555555555556,
              "#d8576b"
             ],
             [
              0.6666666666666666,
              "#ed7953"
             ],
             [
              0.7777777777777778,
              "#fb9f3a"
             ],
             [
              0.8888888888888888,
              "#fdca26"
             ],
             [
              1,
              "#f0f921"
             ]
            ],
            "type": "contour"
           }
          ],
          "contourcarpet": [
           {
            "colorbar": {
             "outlinewidth": 0,
             "ticks": ""
            },
            "type": "contourcarpet"
           }
          ],
          "heatmap": [
           {
            "colorbar": {
             "outlinewidth": 0,
             "ticks": ""
            },
            "colorscale": [
             [
              0,
              "#0d0887"
             ],
             [
              0.1111111111111111,
              "#46039f"
             ],
             [
              0.2222222222222222,
              "#7201a8"
             ],
             [
              0.3333333333333333,
              "#9c179e"
             ],
             [
              0.4444444444444444,
              "#bd3786"
             ],
             [
              0.5555555555555556,
              "#d8576b"
             ],
             [
              0.6666666666666666,
              "#ed7953"
             ],
             [
              0.7777777777777778,
              "#fb9f3a"
             ],
             [
              0.8888888888888888,
              "#fdca26"
             ],
             [
              1,
              "#f0f921"
             ]
            ],
            "type": "heatmap"
           }
          ],
          "histogram": [
           {
            "marker": {
             "pattern": {
              "fillmode": "overlay",
              "size": 10,
              "solidity": 0.2
             }
            },
            "type": "histogram"
           }
          ],
          "histogram2d": [
           {
            "colorbar": {
             "outlinewidth": 0,
             "ticks": ""
            },
            "colorscale": [
             [
              0,
              "#0d0887"
             ],
             [
              0.1111111111111111,
              "#46039f"
             ],
             [
              0.2222222222222222,
              "#7201a8"
             ],
             [
              0.3333333333333333,
              "#9c179e"
             ],
             [
              0.4444444444444444,
              "#bd3786"
             ],
             [
              0.5555555555555556,
              "#d8576b"
             ],
             [
              0.6666666666666666,
              "#ed7953"
             ],
             [
              0.7777777777777778,
              "#fb9f3a"
             ],
             [
              0.8888888888888888,
              "#fdca26"
             ],
             [
              1,
              "#f0f921"
             ]
            ],
            "type": "histogram2d"
           }
          ],
          "histogram2dcontour": [
           {
            "colorbar": {
             "outlinewidth": 0,
             "ticks": ""
            },
            "colorscale": [
             [
              0,
              "#0d0887"
             ],
             [
              0.1111111111111111,
              "#46039f"
             ],
             [
              0.2222222222222222,
              "#7201a8"
             ],
             [
              0.3333333333333333,
              "#9c179e"
             ],
             [
              0.4444444444444444,
              "#bd3786"
             ],
             [
              0.5555555555555556,
              "#d8576b"
             ],
             [
              0.6666666666666666,
              "#ed7953"
             ],
             [
              0.7777777777777778,
              "#fb9f3a"
             ],
             [
              0.8888888888888888,
              "#fdca26"
             ],
             [
              1,
              "#f0f921"
             ]
            ],
            "type": "histogram2dcontour"
           }
          ],
          "mesh3d": [
           {
            "colorbar": {
             "outlinewidth": 0,
             "ticks": ""
            },
            "type": "mesh3d"
           }
          ],
          "parcoords": [
           {
            "line": {
             "colorbar": {
              "outlinewidth": 0,
              "ticks": ""
             }
            },
            "type": "parcoords"
           }
          ],
          "pie": [
           {
            "automargin": true,
            "type": "pie"
           }
          ],
          "scatter": [
           {
            "fillpattern": {
             "fillmode": "overlay",
             "size": 10,
             "solidity": 0.2
            },
            "type": "scatter"
           }
          ],
          "scatter3d": [
           {
            "line": {
             "colorbar": {
              "outlinewidth": 0,
              "ticks": ""
             }
            },
            "marker": {
             "colorbar": {
              "outlinewidth": 0,
              "ticks": ""
             }
            },
            "type": "scatter3d"
           }
          ],
          "scattercarpet": [
           {
            "marker": {
             "colorbar": {
              "outlinewidth": 0,
              "ticks": ""
             }
            },
            "type": "scattercarpet"
           }
          ],
          "scattergeo": [
           {
            "marker": {
             "colorbar": {
              "outlinewidth": 0,
              "ticks": ""
             }
            },
            "type": "scattergeo"
           }
          ],
          "scattergl": [
           {
            "marker": {
             "colorbar": {
              "outlinewidth": 0,
              "ticks": ""
             }
            },
            "type": "scattergl"
           }
          ],
          "scattermap": [
           {
            "marker": {
             "colorbar": {
              "outlinewidth": 0,
              "ticks": ""
             }
            },
            "type": "scattermap"
           }
          ],
          "scattermapbox": [
           {
            "marker": {
             "colorbar": {
              "outlinewidth": 0,
              "ticks": ""
             }
            },
            "type": "scattermapbox"
           }
          ],
          "scatterpolar": [
           {
            "marker": {
             "colorbar": {
              "outlinewidth": 0,
              "ticks": ""
             }
            },
            "type": "scatterpolar"
           }
          ],
          "scatterpolargl": [
           {
            "marker": {
             "colorbar": {
              "outlinewidth": 0,
              "ticks": ""
             }
            },
            "type": "scatterpolargl"
           }
          ],
          "scatterternary": [
           {
            "marker": {
             "colorbar": {
              "outlinewidth": 0,
              "ticks": ""
             }
            },
            "type": "scatterternary"
           }
          ],
          "surface": [
           {
            "colorbar": {
             "outlinewidth": 0,
             "ticks": ""
            },
            "colorscale": [
             [
              0,
              "#0d0887"
             ],
             [
              0.1111111111111111,
              "#46039f"
             ],
             [
              0.2222222222222222,
              "#7201a8"
             ],
             [
              0.3333333333333333,
              "#9c179e"
             ],
             [
              0.4444444444444444,
              "#bd3786"
             ],
             [
              0.5555555555555556,
              "#d8576b"
             ],
             [
              0.6666666666666666,
              "#ed7953"
             ],
             [
              0.7777777777777778,
              "#fb9f3a"
             ],
             [
              0.8888888888888888,
              "#fdca26"
             ],
             [
              1,
              "#f0f921"
             ]
            ],
            "type": "surface"
           }
          ],
          "table": [
           {
            "cells": {
             "fill": {
              "color": "#EBF0F8"
             },
             "line": {
              "color": "white"
             }
            },
            "header": {
             "fill": {
              "color": "#C8D4E3"
             },
             "line": {
              "color": "white"
             }
            },
            "type": "table"
           }
          ]
         },
         "layout": {
          "annotationdefaults": {
           "arrowcolor": "#2a3f5f",
           "arrowhead": 0,
           "arrowwidth": 1
          },
          "autotypenumbers": "strict",
          "coloraxis": {
           "colorbar": {
            "outlinewidth": 0,
            "ticks": ""
           }
          },
          "colorscale": {
           "diverging": [
            [
             0,
             "#8e0152"
            ],
            [
             0.1,
             "#c51b7d"
            ],
            [
             0.2,
             "#de77ae"
            ],
            [
             0.3,
             "#f1b6da"
            ],
            [
             0.4,
             "#fde0ef"
            ],
            [
             0.5,
             "#f7f7f7"
            ],
            [
             0.6,
             "#e6f5d0"
            ],
            [
             0.7,
             "#b8e186"
            ],
            [
             0.8,
             "#7fbc41"
            ],
            [
             0.9,
             "#4d9221"
            ],
            [
             1,
             "#276419"
            ]
           ],
           "sequential": [
            [
             0,
             "#0d0887"
            ],
            [
             0.1111111111111111,
             "#46039f"
            ],
            [
             0.2222222222222222,
             "#7201a8"
            ],
            [
             0.3333333333333333,
             "#9c179e"
            ],
            [
             0.4444444444444444,
             "#bd3786"
            ],
            [
             0.5555555555555556,
             "#d8576b"
            ],
            [
             0.6666666666666666,
             "#ed7953"
            ],
            [
             0.7777777777777778,
             "#fb9f3a"
            ],
            [
             0.8888888888888888,
             "#fdca26"
            ],
            [
             1,
             "#f0f921"
            ]
           ],
           "sequentialminus": [
            [
             0,
             "#0d0887"
            ],
            [
             0.1111111111111111,
             "#46039f"
            ],
            [
             0.2222222222222222,
             "#7201a8"
            ],
            [
             0.3333333333333333,
             "#9c179e"
            ],
            [
             0.4444444444444444,
             "#bd3786"
            ],
            [
             0.5555555555555556,
             "#d8576b"
            ],
            [
             0.6666666666666666,
             "#ed7953"
            ],
            [
             0.7777777777777778,
             "#fb9f3a"
            ],
            [
             0.8888888888888888,
             "#fdca26"
            ],
            [
             1,
             "#f0f921"
            ]
           ]
          },
          "colorway": [
           "#636efa",
           "#EF553B",
           "#00cc96",
           "#ab63fa",
           "#FFA15A",
           "#19d3f3",
           "#FF6692",
           "#B6E880",
           "#FF97FF",
           "#FECB52"
          ],
          "font": {
           "color": "#2a3f5f"
          },
          "geo": {
           "bgcolor": "white",
           "lakecolor": "white",
           "landcolor": "white",
           "showlakes": true,
           "showland": true,
           "subunitcolor": "#C8D4E3"
          },
          "hoverlabel": {
           "align": "left"
          },
          "hovermode": "closest",
          "mapbox": {
           "style": "light"
          },
          "paper_bgcolor": "white",
          "plot_bgcolor": "white",
          "polar": {
           "angularaxis": {
            "gridcolor": "#EBF0F8",
            "linecolor": "#EBF0F8",
            "ticks": ""
           },
           "bgcolor": "white",
           "radialaxis": {
            "gridcolor": "#EBF0F8",
            "linecolor": "#EBF0F8",
            "ticks": ""
           }
          },
          "scene": {
           "xaxis": {
            "backgroundcolor": "white",
            "gridcolor": "#DFE8F3",
            "gridwidth": 2,
            "linecolor": "#EBF0F8",
            "showbackground": true,
            "ticks": "",
            "zerolinecolor": "#EBF0F8"
           },
           "yaxis": {
            "backgroundcolor": "white",
            "gridcolor": "#DFE8F3",
            "gridwidth": 2,
            "linecolor": "#EBF0F8",
            "showbackground": true,
            "ticks": "",
            "zerolinecolor": "#EBF0F8"
           },
           "zaxis": {
            "backgroundcolor": "white",
            "gridcolor": "#DFE8F3",
            "gridwidth": 2,
            "linecolor": "#EBF0F8",
            "showbackground": true,
            "ticks": "",
            "zerolinecolor": "#EBF0F8"
           }
          },
          "shapedefaults": {
           "line": {
            "color": "#2a3f5f"
           }
          },
          "ternary": {
           "aaxis": {
            "gridcolor": "#DFE8F3",
            "linecolor": "#A2B1C6",
            "ticks": ""
           },
           "baxis": {
            "gridcolor": "#DFE8F3",
            "linecolor": "#A2B1C6",
            "ticks": ""
           },
           "bgcolor": "white",
           "caxis": {
            "gridcolor": "#DFE8F3",
            "linecolor": "#A2B1C6",
            "ticks": ""
           }
          },
          "title": {
           "x": 0.05
          },
          "xaxis": {
           "automargin": true,
           "gridcolor": "#EBF0F8",
           "linecolor": "#EBF0F8",
           "ticks": "",
           "title": {
            "standoff": 15
           },
           "zerolinecolor": "#EBF0F8",
           "zerolinewidth": 2
          },
          "yaxis": {
           "automargin": true,
           "gridcolor": "#EBF0F8",
           "linecolor": "#EBF0F8",
           "ticks": "",
           "title": {
            "standoff": 15
           },
           "zerolinecolor": "#EBF0F8",
           "zerolinewidth": 2
          }
         }
        },
        "xaxis": {
         "title": {
          "text": "Scaling Factor "
         }
        },
        "yaxis": {
         "title": {
          "text": "Writhe"
         }
        }
       }
      }
     },
     "metadata": {},
     "output_type": "display_data"
    }
   ],
   "source": [
    "\n",
    "positions = trefoil_shape(100, 2)\n",
    "\n",
    "# Scale factors\n",
    "a_values = jnp.linspace(-4, 4, 50)\n",
    "writhe_values = []\n",
    "\n",
    "for a in a_values:\n",
    "    scaled_positions = a * positions\n",
    "    writhe = compute_writhe_chat(scaled_positions)\n",
    "    writhe_values.append(writhe.item())\n",
    "\n",
    "# Plot\n",
    "fig = go.Figure()\n",
    "fig.add_trace(go.Scatter(\n",
    "    x=a_values,\n",
    "    y=writhe_values,\n",
    "    mode='lines+markers',\n",
    "    name='Writhe vs Scaling'\n",
    "))\n",
    "\n",
    "fig.update_layout(\n",
    "    xaxis_title='Scaling Factor ',\n",
    "    yaxis_title='Writhe',\n",
    "    template='plotly_white'\n",
    ")\n",
    "\n",
    "fig.show()\n"
   ]
  },
  {
   "cell_type": "markdown",
   "metadata": {},
   "source": [
    "### Writhe vs coordinates perturbation"
   ]
  },
  {
   "cell_type": "code",
   "execution_count": 32,
   "metadata": {},
   "outputs": [
    {
     "data": {
      "application/vnd.plotly.v1+json": {
       "config": {
        "plotlyServerURL": "https://plot.ly"
       },
       "data": [
        {
         "error_y": {
          "array": [
           1.3322676295501878e-15,
           0.1433084684386731,
           1.1348439518822668,
           8.541760429506962,
           6.0876478233197755,
           6.727113896445133,
           36.06447781473408,
           20.06952436811711,
           35.44028947282235,
           55.2356237098776
          ],
          "type": "data",
          "visible": true
         },
         "mode": "lines+markers",
         "name": "Mean Writhe ± Std",
         "type": "scatter",
         "x": {
          "bdata": "AAAAAAAAAAARERERERGxPxEREREREcE/mpmZmZmZyT8RERERERHRP1VVVVVVVdU/mpmZmZmZ2T/e3d3d3d3dPxEREREREeE/MzMzMzMz4z8=",
          "dtype": "f8"
         },
         "y": [
          3.330553863360634,
          3.3297381107576594,
          3.376072830608247,
          3.5508930769117564,
          3.088786281004684,
          3.139509405629093,
          4.2441552265099745,
          2.7162450225454804,
          2.3597714752527095,
          4.631538896413527
         ]
        }
       ],
       "layout": {
        "template": {
         "data": {
          "bar": [
           {
            "error_x": {
             "color": "#2a3f5f"
            },
            "error_y": {
             "color": "#2a3f5f"
            },
            "marker": {
             "line": {
              "color": "white",
              "width": 0.5
             },
             "pattern": {
              "fillmode": "overlay",
              "size": 10,
              "solidity": 0.2
             }
            },
            "type": "bar"
           }
          ],
          "barpolar": [
           {
            "marker": {
             "line": {
              "color": "white",
              "width": 0.5
             },
             "pattern": {
              "fillmode": "overlay",
              "size": 10,
              "solidity": 0.2
             }
            },
            "type": "barpolar"
           }
          ],
          "carpet": [
           {
            "aaxis": {
             "endlinecolor": "#2a3f5f",
             "gridcolor": "#C8D4E3",
             "linecolor": "#C8D4E3",
             "minorgridcolor": "#C8D4E3",
             "startlinecolor": "#2a3f5f"
            },
            "baxis": {
             "endlinecolor": "#2a3f5f",
             "gridcolor": "#C8D4E3",
             "linecolor": "#C8D4E3",
             "minorgridcolor": "#C8D4E3",
             "startlinecolor": "#2a3f5f"
            },
            "type": "carpet"
           }
          ],
          "choropleth": [
           {
            "colorbar": {
             "outlinewidth": 0,
             "ticks": ""
            },
            "type": "choropleth"
           }
          ],
          "contour": [
           {
            "colorbar": {
             "outlinewidth": 0,
             "ticks": ""
            },
            "colorscale": [
             [
              0,
              "#0d0887"
             ],
             [
              0.1111111111111111,
              "#46039f"
             ],
             [
              0.2222222222222222,
              "#7201a8"
             ],
             [
              0.3333333333333333,
              "#9c179e"
             ],
             [
              0.4444444444444444,
              "#bd3786"
             ],
             [
              0.5555555555555556,
              "#d8576b"
             ],
             [
              0.6666666666666666,
              "#ed7953"
             ],
             [
              0.7777777777777778,
              "#fb9f3a"
             ],
             [
              0.8888888888888888,
              "#fdca26"
             ],
             [
              1,
              "#f0f921"
             ]
            ],
            "type": "contour"
           }
          ],
          "contourcarpet": [
           {
            "colorbar": {
             "outlinewidth": 0,
             "ticks": ""
            },
            "type": "contourcarpet"
           }
          ],
          "heatmap": [
           {
            "colorbar": {
             "outlinewidth": 0,
             "ticks": ""
            },
            "colorscale": [
             [
              0,
              "#0d0887"
             ],
             [
              0.1111111111111111,
              "#46039f"
             ],
             [
              0.2222222222222222,
              "#7201a8"
             ],
             [
              0.3333333333333333,
              "#9c179e"
             ],
             [
              0.4444444444444444,
              "#bd3786"
             ],
             [
              0.5555555555555556,
              "#d8576b"
             ],
             [
              0.6666666666666666,
              "#ed7953"
             ],
             [
              0.7777777777777778,
              "#fb9f3a"
             ],
             [
              0.8888888888888888,
              "#fdca26"
             ],
             [
              1,
              "#f0f921"
             ]
            ],
            "type": "heatmap"
           }
          ],
          "histogram": [
           {
            "marker": {
             "pattern": {
              "fillmode": "overlay",
              "size": 10,
              "solidity": 0.2
             }
            },
            "type": "histogram"
           }
          ],
          "histogram2d": [
           {
            "colorbar": {
             "outlinewidth": 0,
             "ticks": ""
            },
            "colorscale": [
             [
              0,
              "#0d0887"
             ],
             [
              0.1111111111111111,
              "#46039f"
             ],
             [
              0.2222222222222222,
              "#7201a8"
             ],
             [
              0.3333333333333333,
              "#9c179e"
             ],
             [
              0.4444444444444444,
              "#bd3786"
             ],
             [
              0.5555555555555556,
              "#d8576b"
             ],
             [
              0.6666666666666666,
              "#ed7953"
             ],
             [
              0.7777777777777778,
              "#fb9f3a"
             ],
             [
              0.8888888888888888,
              "#fdca26"
             ],
             [
              1,
              "#f0f921"
             ]
            ],
            "type": "histogram2d"
           }
          ],
          "histogram2dcontour": [
           {
            "colorbar": {
             "outlinewidth": 0,
             "ticks": ""
            },
            "colorscale": [
             [
              0,
              "#0d0887"
             ],
             [
              0.1111111111111111,
              "#46039f"
             ],
             [
              0.2222222222222222,
              "#7201a8"
             ],
             [
              0.3333333333333333,
              "#9c179e"
             ],
             [
              0.4444444444444444,
              "#bd3786"
             ],
             [
              0.5555555555555556,
              "#d8576b"
             ],
             [
              0.6666666666666666,
              "#ed7953"
             ],
             [
              0.7777777777777778,
              "#fb9f3a"
             ],
             [
              0.8888888888888888,
              "#fdca26"
             ],
             [
              1,
              "#f0f921"
             ]
            ],
            "type": "histogram2dcontour"
           }
          ],
          "mesh3d": [
           {
            "colorbar": {
             "outlinewidth": 0,
             "ticks": ""
            },
            "type": "mesh3d"
           }
          ],
          "parcoords": [
           {
            "line": {
             "colorbar": {
              "outlinewidth": 0,
              "ticks": ""
             }
            },
            "type": "parcoords"
           }
          ],
          "pie": [
           {
            "automargin": true,
            "type": "pie"
           }
          ],
          "scatter": [
           {
            "fillpattern": {
             "fillmode": "overlay",
             "size": 10,
             "solidity": 0.2
            },
            "type": "scatter"
           }
          ],
          "scatter3d": [
           {
            "line": {
             "colorbar": {
              "outlinewidth": 0,
              "ticks": ""
             }
            },
            "marker": {
             "colorbar": {
              "outlinewidth": 0,
              "ticks": ""
             }
            },
            "type": "scatter3d"
           }
          ],
          "scattercarpet": [
           {
            "marker": {
             "colorbar": {
              "outlinewidth": 0,
              "ticks": ""
             }
            },
            "type": "scattercarpet"
           }
          ],
          "scattergeo": [
           {
            "marker": {
             "colorbar": {
              "outlinewidth": 0,
              "ticks": ""
             }
            },
            "type": "scattergeo"
           }
          ],
          "scattergl": [
           {
            "marker": {
             "colorbar": {
              "outlinewidth": 0,
              "ticks": ""
             }
            },
            "type": "scattergl"
           }
          ],
          "scattermap": [
           {
            "marker": {
             "colorbar": {
              "outlinewidth": 0,
              "ticks": ""
             }
            },
            "type": "scattermap"
           }
          ],
          "scattermapbox": [
           {
            "marker": {
             "colorbar": {
              "outlinewidth": 0,
              "ticks": ""
             }
            },
            "type": "scattermapbox"
           }
          ],
          "scatterpolar": [
           {
            "marker": {
             "colorbar": {
              "outlinewidth": 0,
              "ticks": ""
             }
            },
            "type": "scatterpolar"
           }
          ],
          "scatterpolargl": [
           {
            "marker": {
             "colorbar": {
              "outlinewidth": 0,
              "ticks": ""
             }
            },
            "type": "scatterpolargl"
           }
          ],
          "scatterternary": [
           {
            "marker": {
             "colorbar": {
              "outlinewidth": 0,
              "ticks": ""
             }
            },
            "type": "scatterternary"
           }
          ],
          "surface": [
           {
            "colorbar": {
             "outlinewidth": 0,
             "ticks": ""
            },
            "colorscale": [
             [
              0,
              "#0d0887"
             ],
             [
              0.1111111111111111,
              "#46039f"
             ],
             [
              0.2222222222222222,
              "#7201a8"
             ],
             [
              0.3333333333333333,
              "#9c179e"
             ],
             [
              0.4444444444444444,
              "#bd3786"
             ],
             [
              0.5555555555555556,
              "#d8576b"
             ],
             [
              0.6666666666666666,
              "#ed7953"
             ],
             [
              0.7777777777777778,
              "#fb9f3a"
             ],
             [
              0.8888888888888888,
              "#fdca26"
             ],
             [
              1,
              "#f0f921"
             ]
            ],
            "type": "surface"
           }
          ],
          "table": [
           {
            "cells": {
             "fill": {
              "color": "#EBF0F8"
             },
             "line": {
              "color": "white"
             }
            },
            "header": {
             "fill": {
              "color": "#C8D4E3"
             },
             "line": {
              "color": "white"
             }
            },
            "type": "table"
           }
          ]
         },
         "layout": {
          "annotationdefaults": {
           "arrowcolor": "#2a3f5f",
           "arrowhead": 0,
           "arrowwidth": 1
          },
          "autotypenumbers": "strict",
          "coloraxis": {
           "colorbar": {
            "outlinewidth": 0,
            "ticks": ""
           }
          },
          "colorscale": {
           "diverging": [
            [
             0,
             "#8e0152"
            ],
            [
             0.1,
             "#c51b7d"
            ],
            [
             0.2,
             "#de77ae"
            ],
            [
             0.3,
             "#f1b6da"
            ],
            [
             0.4,
             "#fde0ef"
            ],
            [
             0.5,
             "#f7f7f7"
            ],
            [
             0.6,
             "#e6f5d0"
            ],
            [
             0.7,
             "#b8e186"
            ],
            [
             0.8,
             "#7fbc41"
            ],
            [
             0.9,
             "#4d9221"
            ],
            [
             1,
             "#276419"
            ]
           ],
           "sequential": [
            [
             0,
             "#0d0887"
            ],
            [
             0.1111111111111111,
             "#46039f"
            ],
            [
             0.2222222222222222,
             "#7201a8"
            ],
            [
             0.3333333333333333,
             "#9c179e"
            ],
            [
             0.4444444444444444,
             "#bd3786"
            ],
            [
             0.5555555555555556,
             "#d8576b"
            ],
            [
             0.6666666666666666,
             "#ed7953"
            ],
            [
             0.7777777777777778,
             "#fb9f3a"
            ],
            [
             0.8888888888888888,
             "#fdca26"
            ],
            [
             1,
             "#f0f921"
            ]
           ],
           "sequentialminus": [
            [
             0,
             "#0d0887"
            ],
            [
             0.1111111111111111,
             "#46039f"
            ],
            [
             0.2222222222222222,
             "#7201a8"
            ],
            [
             0.3333333333333333,
             "#9c179e"
            ],
            [
             0.4444444444444444,
             "#bd3786"
            ],
            [
             0.5555555555555556,
             "#d8576b"
            ],
            [
             0.6666666666666666,
             "#ed7953"
            ],
            [
             0.7777777777777778,
             "#fb9f3a"
            ],
            [
             0.8888888888888888,
             "#fdca26"
            ],
            [
             1,
             "#f0f921"
            ]
           ]
          },
          "colorway": [
           "#636efa",
           "#EF553B",
           "#00cc96",
           "#ab63fa",
           "#FFA15A",
           "#19d3f3",
           "#FF6692",
           "#B6E880",
           "#FF97FF",
           "#FECB52"
          ],
          "font": {
           "color": "#2a3f5f"
          },
          "geo": {
           "bgcolor": "white",
           "lakecolor": "white",
           "landcolor": "white",
           "showlakes": true,
           "showland": true,
           "subunitcolor": "#C8D4E3"
          },
          "hoverlabel": {
           "align": "left"
          },
          "hovermode": "closest",
          "mapbox": {
           "style": "light"
          },
          "paper_bgcolor": "white",
          "plot_bgcolor": "white",
          "polar": {
           "angularaxis": {
            "gridcolor": "#EBF0F8",
            "linecolor": "#EBF0F8",
            "ticks": ""
           },
           "bgcolor": "white",
           "radialaxis": {
            "gridcolor": "#EBF0F8",
            "linecolor": "#EBF0F8",
            "ticks": ""
           }
          },
          "scene": {
           "xaxis": {
            "backgroundcolor": "white",
            "gridcolor": "#DFE8F3",
            "gridwidth": 2,
            "linecolor": "#EBF0F8",
            "showbackground": true,
            "ticks": "",
            "zerolinecolor": "#EBF0F8"
           },
           "yaxis": {
            "backgroundcolor": "white",
            "gridcolor": "#DFE8F3",
            "gridwidth": 2,
            "linecolor": "#EBF0F8",
            "showbackground": true,
            "ticks": "",
            "zerolinecolor": "#EBF0F8"
           },
           "zaxis": {
            "backgroundcolor": "white",
            "gridcolor": "#DFE8F3",
            "gridwidth": 2,
            "linecolor": "#EBF0F8",
            "showbackground": true,
            "ticks": "",
            "zerolinecolor": "#EBF0F8"
           }
          },
          "shapedefaults": {
           "line": {
            "color": "#2a3f5f"
           }
          },
          "ternary": {
           "aaxis": {
            "gridcolor": "#DFE8F3",
            "linecolor": "#A2B1C6",
            "ticks": ""
           },
           "baxis": {
            "gridcolor": "#DFE8F3",
            "linecolor": "#A2B1C6",
            "ticks": ""
           },
           "bgcolor": "white",
           "caxis": {
            "gridcolor": "#DFE8F3",
            "linecolor": "#A2B1C6",
            "ticks": ""
           }
          },
          "title": {
           "x": 0.05
          },
          "xaxis": {
           "automargin": true,
           "gridcolor": "#EBF0F8",
           "linecolor": "#EBF0F8",
           "ticks": "",
           "title": {
            "standoff": 15
           },
           "zerolinecolor": "#EBF0F8",
           "zerolinewidth": 2
          },
          "yaxis": {
           "automargin": true,
           "gridcolor": "#EBF0F8",
           "linecolor": "#EBF0F8",
           "ticks": "",
           "title": {
            "standoff": 15
           },
           "zerolinecolor": "#EBF0F8",
           "zerolinewidth": 2
          }
         }
        },
        "title": {
         "text": "Effect of Gaussian Noise on Writhe (Trefoil)"
        },
        "xaxis": {
         "title": {
          "text": "Noise sigma"
         }
        },
        "yaxis": {
         "title": {
          "text": "Writhe"
         }
        }
       }
      }
     },
     "metadata": {},
     "output_type": "display_data"
    }
   ],
   "source": [
    "n = 100\n",
    "clean_positions = trefoil_shape(n, 2)\n",
    "true_writhe = compute_writhe_chat(clean_positions)\n",
    "\n",
    "\n",
    "noise_levels= np.linspace(0, 0.6, 10)\n",
    "n_trials = 1000\n",
    "\n",
    "writhe_means = []\n",
    "writhe_stds = []\n",
    "\n",
    "for sigma in noise_levels:\n",
    "    wr_values = []\n",
    "    for _ in range(n_trials):\n",
    "        noise = np.random.normal(loc = 0,scale=sigma, size=clean_positions.shape)\n",
    "        # print(noise)\n",
    "        noisy_positions = clean_positions + noise\n",
    "        wr_noisy = compute_writhe_chat(noisy_positions)\n",
    "        wr_values.append(wr_noisy)\n",
    "    wr_values = np.array(wr_values)\n",
    "    writhe_means.append(wr_values.mean())\n",
    "    writhe_stds.append(wr_values.std())\n",
    "\n",
    "fig = go.Figure()\n",
    "fig.add_trace(go.Scatter(\n",
    "    x=noise_levels,\n",
    "    y=writhe_means,\n",
    "    error_y=dict(type='data', array=writhe_stds, visible=True),\n",
    "    mode='lines+markers',\n",
    "    name='Mean Writhe ± Std'\n",
    "))\n",
    "\n",
    "fig.update_layout(\n",
    "    title='Effect of Gaussian Noise on Writhe (Trefoil)',\n",
    "    xaxis_title='Noise sigma',\n",
    "    #plot y only show -10, 10\n",
    "    yaxis_title='Writhe',\n",
    "    template='plotly_white'\n",
    ")\n",
    "\n",
    "fig.show()\n"
   ]
  },
  {
   "cell_type": "markdown",
   "metadata": {},
   "source": [
    "### visualize the effect of noise on the trefoil shape and bends"
   ]
  },
  {
   "cell_type": "code",
   "execution_count": 37,
   "metadata": {},
   "outputs": [
    {
     "data": {
      "application/vnd.plotly.v1+json": {
       "config": {
        "plotlyServerURL": "https://plot.ly"
       },
       "data": [
        {
         "hoverinfo": "text",
         "line": {
          "width": 2
         },
         "marker": {
          "size": 2
         },
         "mode": "lines+markers",
         "name": "Noisy Trefoil",
         "scene": "scene",
         "text": [
          "Segment: 0",
          "Segment: 1",
          "Segment: 2",
          "Segment: 3",
          "Segment: 4",
          "Segment: 5",
          "Segment: 6",
          "Segment: 7",
          "Segment: 8",
          "Segment: 9",
          "Segment: 10",
          "Segment: 11",
          "Segment: 12",
          "Segment: 13",
          "Segment: 14",
          "Segment: 15",
          "Segment: 16",
          "Segment: 17",
          "Segment: 18",
          "Segment: 19",
          "Segment: 20",
          "Segment: 21",
          "Segment: 22",
          "Segment: 23",
          "Segment: 24",
          "Segment: 25",
          "Segment: 26",
          "Segment: 27",
          "Segment: 28",
          "Segment: 29",
          "Segment: 30",
          "Segment: 31",
          "Segment: 32",
          "Segment: 33",
          "Segment: 34",
          "Segment: 35",
          "Segment: 36",
          "Segment: 37",
          "Segment: 38",
          "Segment: 39",
          "Segment: 40",
          "Segment: 41",
          "Segment: 42",
          "Segment: 43",
          "Segment: 44",
          "Segment: 45",
          "Segment: 46",
          "Segment: 47",
          "Segment: 48",
          "Segment: 49",
          "Segment: 50",
          "Segment: 51",
          "Segment: 52",
          "Segment: 53",
          "Segment: 54",
          "Segment: 55",
          "Segment: 56",
          "Segment: 57",
          "Segment: 58",
          "Segment: 59",
          "Segment: 60",
          "Segment: 61",
          "Segment: 62",
          "Segment: 63",
          "Segment: 64",
          "Segment: 65",
          "Segment: 66",
          "Segment: 67",
          "Segment: 68",
          "Segment: 69",
          "Segment: 70",
          "Segment: 71",
          "Segment: 72",
          "Segment: 73",
          "Segment: 74",
          "Segment: 75",
          "Segment: 76",
          "Segment: 77",
          "Segment: 78",
          "Segment: 79",
          "Segment: 80",
          "Segment: 81",
          "Segment: 82",
          "Segment: 83",
          "Segment: 84",
          "Segment: 85",
          "Segment: 86",
          "Segment: 87",
          "Segment: 88",
          "Segment: 89",
          "Segment: 90",
          "Segment: 91",
          "Segment: 92",
          "Segment: 93",
          "Segment: 94",
          "Segment: 95",
          "Segment: 96",
          "Segment: 97",
          "Segment: 98",
          "Segment: 99"
         ],
         "type": "scatter3d",
         "x": {
          "bdata": "fYNlGOYS0z92XzPz06/zPwP0RhsAOfk/Aro6PToh9D81qDS1Reb1P+tHTBtQkfI/NGLyjuVP8z8xhdaSw4v9P+VJJp6Jvv0/sVxPJr6uBEDdZh6NLSIBQJSsTQj5pP8/Bn0MRUuBBkCQiC3NdsUGQK/EMDqdUAVAwsfCKm4uAkD9iK5hd8gGQMoqGcc7hgJAL+tuaV5RCEA2XZauQqgAQMpI3e8D0/w/8Im/0Yi68j+vwqAmoQL6P8XQwZQZwvA/qo7ZfgOu8j90A/EOet/2PxsbqeCPjOc/ht7tof1/5D9kXVrazrjTv42bnABUHsE/WTgfGkLVzb+iJMBBYWPmvwYJcmVKkuC/bt+k6sIb8L/lzP62+Xvzv/rMH9m3duy/egKpdBwc8b+9inkc79j0vwIGE2gv+/a/8TxmRZ82AMDi52XXpHPqv3ta7CkEuQDAFS4I03M+/L/JlI7T5+z1v1XBLuqES/m/FGo4f1OxwD+UqsQngVnDvyCj9xO4XdQ/gSr9L3hSwL9nEULWh2Xsv5xSX2bHac8/KjdcICIP2z8MKM7qVF75P25GfbwIiPA/S4boSFHq9z8k++iCQA/zP6U0+vX+eO0/qcbkmlnO5T+fJc+y1qT2P1o2HqEIYwFAYymDwb02+z9ojMW/KcT5P0HDdGTNIvk/KMgnvbYo1D80XULhgir0P0HSZh6t5PM/gf//bJbU7D+8srcVE4PwPz6aE8NUtdS/3s85sdQv4z91E1NErPzZP75XDK7bYMs/+mVnMU177L8jz0KXHDfkv8jgDkUIyuC/L5CaoLUj4b/jhnsEetH9vzXtZgiin/i/QGsd7b9C479rq3tjZ6L/vyZC3fMR8gXAhlZ+8EVt/r9QrrYQCacGwPY/7i6WMAPAnn6m6onm9r+GpEPmvzEIwCa7URcysgPADHCRhcnJBcBkwOCsjhwGwJRJpqnp4grABO3Ayxjs97+9lp/DoW8BwLRkQDVszf2/FtqnQ2e6/7/XGA6pynrhv7SKYNSJKAPA5FsIW4hy6L+LTLJcDZftv6TI6h7bNrq/oyWsIcGZxz8=",
          "dtype": "f8"
         },
         "y": {
          "bdata": "yqZwYMxT8b8WgTK1ywXyvzKexHJd8d6/TucSARty8r9Ate4J79f+v9nXBppqSvS/srl+nBzd9b8mTQF3klTUv7hQwABAMr2/J/JAZr1l1r8YWIyTLCr1P/p+D2pbMe0/dZ76Z+yC4b8mV8rjPnv0P9gAYhUOges/ZjFRQ2Cm7j9IUh/N2OHWP8CPrS+IyPI/Bab8v29FAkCRDEkLkF4AQL9Rkwp4U/0/StKKn+8BBEBM9FrwwD0FQAfSQKFwOgJAQBsT7ojRB0Cf6VdkaEgAQKSkSzOvf+Y/CHgxnKhOBUDfljgXwTj1P+iqu0gvG/I/iAPS7zc4/T8qoF88vADpP/QRCYCnj+0/sMFSGalZ1r/EJdwuYM7Qv/CzWd7d8fA/+zjn4rKN2r8Wqx2lfUbkv9j+sZEDJ+m/z4dIk9FM4r8S/tShJqoAwKircnziNPe/5VhLYB0cA8CdsJ3k0aAJwABj9hVCgAHAlCAOGUflCMAHWROqjSgMwHG8bKIK0Q7A2p+dowDsA8Cu3f1MXHUFwN3TtrwBTQbAZwNxOJREBsB02QovhdMEwKl/cJLB7QrAOeJaQEUTCcCDM6A7H6j/v7I6WECOzQXA07xEnf3CAMCyZ85XQub0v9OMoNTPI/u/Dd5bo49Z/L8rUKmYxZ3xv9uFncSA1Oa/9rkoo6Rr5L8SmtWGTT7qv2ChPGVX8NO/mDXY3rXHx7+7EwDm9qv2P0qDgfXaDN0/B9FMMHXd+D++Iw/b8QsBQMo+oRERA/c/9X3hTD0n+j+3ooyLf0YKQKcw2Gh6P/A/fWb6VuOdAEANlH5ecsEDQAxuU3KcpABA3AAyyHYmA0AaBPKGVsH4P0pPBTsJdfw/nIfkgU8U8D/GjOV4gwLzP6jkICEfFeU/eE2X9qOo/T++Xp2uFM78P8ziH38h1PQ/4APfcx0P9b+m4EdqcB3VvxiIG6wE7qq/4QbzByk867+J9gGezJ/ovw60Jf5i/Oa/ldDIDQTd3L96G5GIVnP2vwNeYzvE3eu/PDz+do7587+wUPHJz8L0v3hUWSo8bfa/MdjBv55k4L8=",
          "dtype": "f8"
         },
         "z": {
          "bdata": "sNdekwnf2D/scA1zQvioP9Q532PJCLc/9OxopIy30D8swFizYBLWv1Cbvx7MDPA/ZITWwNSf/D+wSe7AQ/G9P26mxBi3utM/87aIVuIS6j8jrPjqGvvtP/hOVVgoF8E/wOL9XzETpb/Zf/CNRBLnP7YQAxbhctu/VGPxlutP7T9/o8b0RYfSP5Z6INefZ9E/3Ib3BOAg6b8kDoq61ETAP2PLSXXogvS/MBxAlnKxrT9hG8x698Tkv0DaCF0Ptpa/KH2KDkx+BMBR4Ft6M9ryv8uqhONnqPG/F6jjtI2H87+24c5QPvvQv/0nmF6hdNi/7OmZM6nH7r9t9z1SEP/zvza46aHZ1Me/04OsnRwn0L82zhrfway3P9ufj8Z8fd4/FWWi9jaK479v/vgcHVgBQOdimBJkZuk/pSJfo83F9T8opc4nDAT9PyxlROtPgQJAjQrjOTbL8D9D43iLco7vP4C7HPimHtQ/S5xFjxoA4j/QwDYw+CXoP96ibtNNNeI/++EIZtB33b/4gClY4HzRP7M3IhgoGeC/jiUaGSK75r+wldCvpMTyv/5mGOUercK/YNhAGqi/xr/+MHoFRmnRP8L0nETLqPe/wAkcfckf6b/j9dJ40Lbvv29bx1kYIeU/VHIXla3V+L/ts9IYGrfYv0Xx1NSkK/O/wDHu9dxxm785OCFB4SLRvzVtsGsN1ri/N0R8v2J6yz+YKWd5/knqP0iWsgEpyOU/aneLBnjRBkAGCCtNHjP0P5Q+afC+UfQ/MOuV4AvK4z/EUqEkmwPDvzoppOwU5+Y/fE0+fpL21T8u4pVzjDfgP/hGPNl3Z94/9td1usJl3b/Ccuhb6xLyP5ctO7fnW+g/rKzORIC+tD8iisBAIXjyPxglaEeNKd0/B+Qm7foX878vknbtIEDsv2c8o+cAyvK/UHjJ1xXt9b8YGKX3Lgm9P0k2m6PUuuu/Zjshm96u0r/3jyfnYxfnv9Onjzn9we2/Y3F5WzNl4L+Q0EUTj8bdP2qdQ27cktW/NFklXuRL5b9cF0q4OK3BPxZeW/a7btY/3Liz3IAt2D8=",
          "dtype": "f8"
         }
        }
       ],
       "layout": {
        "annotations": [
         {
          "font": {
           "size": 16
          },
          "showarrow": false,
          "text": "Noisy Trefoil (σ = 0.6)",
          "x": 0.5,
          "xanchor": "center",
          "xref": "paper",
          "y": 1,
          "yanchor": "bottom",
          "yref": "paper"
         }
        ],
        "height": 600,
        "scene": {
         "domain": {
          "x": [
           0,
           1
          ],
          "y": [
           0,
           1
          ]
         }
        },
        "template": {
         "data": {
          "bar": [
           {
            "error_x": {
             "color": "#2a3f5f"
            },
            "error_y": {
             "color": "#2a3f5f"
            },
            "marker": {
             "line": {
              "color": "white",
              "width": 0.5
             },
             "pattern": {
              "fillmode": "overlay",
              "size": 10,
              "solidity": 0.2
             }
            },
            "type": "bar"
           }
          ],
          "barpolar": [
           {
            "marker": {
             "line": {
              "color": "white",
              "width": 0.5
             },
             "pattern": {
              "fillmode": "overlay",
              "size": 10,
              "solidity": 0.2
             }
            },
            "type": "barpolar"
           }
          ],
          "carpet": [
           {
            "aaxis": {
             "endlinecolor": "#2a3f5f",
             "gridcolor": "#C8D4E3",
             "linecolor": "#C8D4E3",
             "minorgridcolor": "#C8D4E3",
             "startlinecolor": "#2a3f5f"
            },
            "baxis": {
             "endlinecolor": "#2a3f5f",
             "gridcolor": "#C8D4E3",
             "linecolor": "#C8D4E3",
             "minorgridcolor": "#C8D4E3",
             "startlinecolor": "#2a3f5f"
            },
            "type": "carpet"
           }
          ],
          "choropleth": [
           {
            "colorbar": {
             "outlinewidth": 0,
             "ticks": ""
            },
            "type": "choropleth"
           }
          ],
          "contour": [
           {
            "colorbar": {
             "outlinewidth": 0,
             "ticks": ""
            },
            "colorscale": [
             [
              0,
              "#0d0887"
             ],
             [
              0.1111111111111111,
              "#46039f"
             ],
             [
              0.2222222222222222,
              "#7201a8"
             ],
             [
              0.3333333333333333,
              "#9c179e"
             ],
             [
              0.4444444444444444,
              "#bd3786"
             ],
             [
              0.5555555555555556,
              "#d8576b"
             ],
             [
              0.6666666666666666,
              "#ed7953"
             ],
             [
              0.7777777777777778,
              "#fb9f3a"
             ],
             [
              0.8888888888888888,
              "#fdca26"
             ],
             [
              1,
              "#f0f921"
             ]
            ],
            "type": "contour"
           }
          ],
          "contourcarpet": [
           {
            "colorbar": {
             "outlinewidth": 0,
             "ticks": ""
            },
            "type": "contourcarpet"
           }
          ],
          "heatmap": [
           {
            "colorbar": {
             "outlinewidth": 0,
             "ticks": ""
            },
            "colorscale": [
             [
              0,
              "#0d0887"
             ],
             [
              0.1111111111111111,
              "#46039f"
             ],
             [
              0.2222222222222222,
              "#7201a8"
             ],
             [
              0.3333333333333333,
              "#9c179e"
             ],
             [
              0.4444444444444444,
              "#bd3786"
             ],
             [
              0.5555555555555556,
              "#d8576b"
             ],
             [
              0.6666666666666666,
              "#ed7953"
             ],
             [
              0.7777777777777778,
              "#fb9f3a"
             ],
             [
              0.8888888888888888,
              "#fdca26"
             ],
             [
              1,
              "#f0f921"
             ]
            ],
            "type": "heatmap"
           }
          ],
          "histogram": [
           {
            "marker": {
             "pattern": {
              "fillmode": "overlay",
              "size": 10,
              "solidity": 0.2
             }
            },
            "type": "histogram"
           }
          ],
          "histogram2d": [
           {
            "colorbar": {
             "outlinewidth": 0,
             "ticks": ""
            },
            "colorscale": [
             [
              0,
              "#0d0887"
             ],
             [
              0.1111111111111111,
              "#46039f"
             ],
             [
              0.2222222222222222,
              "#7201a8"
             ],
             [
              0.3333333333333333,
              "#9c179e"
             ],
             [
              0.4444444444444444,
              "#bd3786"
             ],
             [
              0.5555555555555556,
              "#d8576b"
             ],
             [
              0.6666666666666666,
              "#ed7953"
             ],
             [
              0.7777777777777778,
              "#fb9f3a"
             ],
             [
              0.8888888888888888,
              "#fdca26"
             ],
             [
              1,
              "#f0f921"
             ]
            ],
            "type": "histogram2d"
           }
          ],
          "histogram2dcontour": [
           {
            "colorbar": {
             "outlinewidth": 0,
             "ticks": ""
            },
            "colorscale": [
             [
              0,
              "#0d0887"
             ],
             [
              0.1111111111111111,
              "#46039f"
             ],
             [
              0.2222222222222222,
              "#7201a8"
             ],
             [
              0.3333333333333333,
              "#9c179e"
             ],
             [
              0.4444444444444444,
              "#bd3786"
             ],
             [
              0.5555555555555556,
              "#d8576b"
             ],
             [
              0.6666666666666666,
              "#ed7953"
             ],
             [
              0.7777777777777778,
              "#fb9f3a"
             ],
             [
              0.8888888888888888,
              "#fdca26"
             ],
             [
              1,
              "#f0f921"
             ]
            ],
            "type": "histogram2dcontour"
           }
          ],
          "mesh3d": [
           {
            "colorbar": {
             "outlinewidth": 0,
             "ticks": ""
            },
            "type": "mesh3d"
           }
          ],
          "parcoords": [
           {
            "line": {
             "colorbar": {
              "outlinewidth": 0,
              "ticks": ""
             }
            },
            "type": "parcoords"
           }
          ],
          "pie": [
           {
            "automargin": true,
            "type": "pie"
           }
          ],
          "scatter": [
           {
            "fillpattern": {
             "fillmode": "overlay",
             "size": 10,
             "solidity": 0.2
            },
            "type": "scatter"
           }
          ],
          "scatter3d": [
           {
            "line": {
             "colorbar": {
              "outlinewidth": 0,
              "ticks": ""
             }
            },
            "marker": {
             "colorbar": {
              "outlinewidth": 0,
              "ticks": ""
             }
            },
            "type": "scatter3d"
           }
          ],
          "scattercarpet": [
           {
            "marker": {
             "colorbar": {
              "outlinewidth": 0,
              "ticks": ""
             }
            },
            "type": "scattercarpet"
           }
          ],
          "scattergeo": [
           {
            "marker": {
             "colorbar": {
              "outlinewidth": 0,
              "ticks": ""
             }
            },
            "type": "scattergeo"
           }
          ],
          "scattergl": [
           {
            "marker": {
             "colorbar": {
              "outlinewidth": 0,
              "ticks": ""
             }
            },
            "type": "scattergl"
           }
          ],
          "scattermap": [
           {
            "marker": {
             "colorbar": {
              "outlinewidth": 0,
              "ticks": ""
             }
            },
            "type": "scattermap"
           }
          ],
          "scattermapbox": [
           {
            "marker": {
             "colorbar": {
              "outlinewidth": 0,
              "ticks": ""
             }
            },
            "type": "scattermapbox"
           }
          ],
          "scatterpolar": [
           {
            "marker": {
             "colorbar": {
              "outlinewidth": 0,
              "ticks": ""
             }
            },
            "type": "scatterpolar"
           }
          ],
          "scatterpolargl": [
           {
            "marker": {
             "colorbar": {
              "outlinewidth": 0,
              "ticks": ""
             }
            },
            "type": "scatterpolargl"
           }
          ],
          "scatterternary": [
           {
            "marker": {
             "colorbar": {
              "outlinewidth": 0,
              "ticks": ""
             }
            },
            "type": "scatterternary"
           }
          ],
          "surface": [
           {
            "colorbar": {
             "outlinewidth": 0,
             "ticks": ""
            },
            "colorscale": [
             [
              0,
              "#0d0887"
             ],
             [
              0.1111111111111111,
              "#46039f"
             ],
             [
              0.2222222222222222,
              "#7201a8"
             ],
             [
              0.3333333333333333,
              "#9c179e"
             ],
             [
              0.4444444444444444,
              "#bd3786"
             ],
             [
              0.5555555555555556,
              "#d8576b"
             ],
             [
              0.6666666666666666,
              "#ed7953"
             ],
             [
              0.7777777777777778,
              "#fb9f3a"
             ],
             [
              0.8888888888888888,
              "#fdca26"
             ],
             [
              1,
              "#f0f921"
             ]
            ],
            "type": "surface"
           }
          ],
          "table": [
           {
            "cells": {
             "fill": {
              "color": "#EBF0F8"
             },
             "line": {
              "color": "white"
             }
            },
            "header": {
             "fill": {
              "color": "#C8D4E3"
             },
             "line": {
              "color": "white"
             }
            },
            "type": "table"
           }
          ]
         },
         "layout": {
          "annotationdefaults": {
           "arrowcolor": "#2a3f5f",
           "arrowhead": 0,
           "arrowwidth": 1
          },
          "autotypenumbers": "strict",
          "coloraxis": {
           "colorbar": {
            "outlinewidth": 0,
            "ticks": ""
           }
          },
          "colorscale": {
           "diverging": [
            [
             0,
             "#8e0152"
            ],
            [
             0.1,
             "#c51b7d"
            ],
            [
             0.2,
             "#de77ae"
            ],
            [
             0.3,
             "#f1b6da"
            ],
            [
             0.4,
             "#fde0ef"
            ],
            [
             0.5,
             "#f7f7f7"
            ],
            [
             0.6,
             "#e6f5d0"
            ],
            [
             0.7,
             "#b8e186"
            ],
            [
             0.8,
             "#7fbc41"
            ],
            [
             0.9,
             "#4d9221"
            ],
            [
             1,
             "#276419"
            ]
           ],
           "sequential": [
            [
             0,
             "#0d0887"
            ],
            [
             0.1111111111111111,
             "#46039f"
            ],
            [
             0.2222222222222222,
             "#7201a8"
            ],
            [
             0.3333333333333333,
             "#9c179e"
            ],
            [
             0.4444444444444444,
             "#bd3786"
            ],
            [
             0.5555555555555556,
             "#d8576b"
            ],
            [
             0.6666666666666666,
             "#ed7953"
            ],
            [
             0.7777777777777778,
             "#fb9f3a"
            ],
            [
             0.8888888888888888,
             "#fdca26"
            ],
            [
             1,
             "#f0f921"
            ]
           ],
           "sequentialminus": [
            [
             0,
             "#0d0887"
            ],
            [
             0.1111111111111111,
             "#46039f"
            ],
            [
             0.2222222222222222,
             "#7201a8"
            ],
            [
             0.3333333333333333,
             "#9c179e"
            ],
            [
             0.4444444444444444,
             "#bd3786"
            ],
            [
             0.5555555555555556,
             "#d8576b"
            ],
            [
             0.6666666666666666,
             "#ed7953"
            ],
            [
             0.7777777777777778,
             "#fb9f3a"
            ],
            [
             0.8888888888888888,
             "#fdca26"
            ],
            [
             1,
             "#f0f921"
            ]
           ]
          },
          "colorway": [
           "#636efa",
           "#EF553B",
           "#00cc96",
           "#ab63fa",
           "#FFA15A",
           "#19d3f3",
           "#FF6692",
           "#B6E880",
           "#FF97FF",
           "#FECB52"
          ],
          "font": {
           "color": "#2a3f5f"
          },
          "geo": {
           "bgcolor": "white",
           "lakecolor": "white",
           "landcolor": "white",
           "showlakes": true,
           "showland": true,
           "subunitcolor": "#C8D4E3"
          },
          "hoverlabel": {
           "align": "left"
          },
          "hovermode": "closest",
          "mapbox": {
           "style": "light"
          },
          "paper_bgcolor": "white",
          "plot_bgcolor": "white",
          "polar": {
           "angularaxis": {
            "gridcolor": "#EBF0F8",
            "linecolor": "#EBF0F8",
            "ticks": ""
           },
           "bgcolor": "white",
           "radialaxis": {
            "gridcolor": "#EBF0F8",
            "linecolor": "#EBF0F8",
            "ticks": ""
           }
          },
          "scene": {
           "xaxis": {
            "backgroundcolor": "white",
            "gridcolor": "#DFE8F3",
            "gridwidth": 2,
            "linecolor": "#EBF0F8",
            "showbackground": true,
            "ticks": "",
            "zerolinecolor": "#EBF0F8"
           },
           "yaxis": {
            "backgroundcolor": "white",
            "gridcolor": "#DFE8F3",
            "gridwidth": 2,
            "linecolor": "#EBF0F8",
            "showbackground": true,
            "ticks": "",
            "zerolinecolor": "#EBF0F8"
           },
           "zaxis": {
            "backgroundcolor": "white",
            "gridcolor": "#DFE8F3",
            "gridwidth": 2,
            "linecolor": "#EBF0F8",
            "showbackground": true,
            "ticks": "",
            "zerolinecolor": "#EBF0F8"
           }
          },
          "shapedefaults": {
           "line": {
            "color": "#2a3f5f"
           }
          },
          "ternary": {
           "aaxis": {
            "gridcolor": "#DFE8F3",
            "linecolor": "#A2B1C6",
            "ticks": ""
           },
           "baxis": {
            "gridcolor": "#DFE8F3",
            "linecolor": "#A2B1C6",
            "ticks": ""
           },
           "bgcolor": "white",
           "caxis": {
            "gridcolor": "#DFE8F3",
            "linecolor": "#A2B1C6",
            "ticks": ""
           }
          },
          "title": {
           "x": 0.05
          },
          "xaxis": {
           "automargin": true,
           "gridcolor": "#EBF0F8",
           "linecolor": "#EBF0F8",
           "ticks": "",
           "title": {
            "standoff": 15
           },
           "zerolinecolor": "#EBF0F8",
           "zerolinewidth": 2
          },
          "yaxis": {
           "automargin": true,
           "gridcolor": "#EBF0F8",
           "linecolor": "#EBF0F8",
           "ticks": "",
           "title": {
            "standoff": 15
           },
           "zerolinecolor": "#EBF0F8",
           "zerolinewidth": 2
          }
         }
        },
        "title": {
         "text": "Noisy Trefoil Knot (Gaussian Noise σ = 0.6)"
        },
        "width": 800
       }
      }
     },
     "metadata": {},
     "output_type": "display_data"
    }
   ],
   "source": [
    "# Parameters\n",
    "n = 100\n",
    "sigma = 0.6  # Choose noise level\n",
    "np.random.seed(42)  # Reproducibility\n",
    "\n",
    "# Generate noisy trefoil\n",
    "clean_positions = trefoil_shape(n, 2)\n",
    "noise = np.random.normal(scale=sigma, size=clean_positions.shape)\n",
    "noisy_positions = clean_positions + noise\n",
    "\n",
    "# Hover labels\n",
    "hover_labels = [f\"Segment: {i}\" for i in range(len(noisy_positions))]\n",
    "\n",
    "# Plot 3D noisy trefoil\n",
    "fig = make_subplots(rows=1, cols=1,\n",
    "                    specs=[[{\"type\": \"scatter3d\"}]],\n",
    "                    subplot_titles=[f\"Noisy Trefoil (σ = {sigma})\"])\n",
    "\n",
    "fig.add_trace(go.Scatter3d(\n",
    "    x=noisy_positions[:, 0],\n",
    "    y=noisy_positions[:, 1],\n",
    "    z=noisy_positions[:, 2],\n",
    "    mode='lines+markers',\n",
    "    marker=dict(size=2),\n",
    "    line=dict(width=2),\n",
    "    name='Noisy Trefoil',\n",
    "    text=hover_labels,\n",
    "    hoverinfo='text'\n",
    "), row=1, col=1)\n",
    "\n",
    "fig.update_layout(\n",
    "    height=600,\n",
    "    width=800,\n",
    "    title_text=f\"Noisy Trefoil Knot (Gaussian Noise σ = {sigma})\",\n",
    "    template='plotly_white'\n",
    ")\n",
    "\n",
    "fig.show()\n"
   ]
  },
  {
   "cell_type": "markdown",
   "metadata": {},
   "source": [
    "### Writhe values vs a strech along the Z axis"
   ]
  },
  {
   "cell_type": "code",
   "execution_count": 39,
   "metadata": {},
   "outputs": [
    {
     "data": {
      "application/vnd.plotly.v1+json": {
       "config": {
        "plotlyServerURL": "https://plot.ly"
       },
       "data": [
        {
         "mode": "lines+markers",
         "name": "Writhe vs Z Stretch",
         "type": "scatter",
         "x": {
          "bdata": "AAAAAAAA4L+sD431obHev1kfGutDY92/BS+n4OUU3L+yPjTWh8bav15OwcspeNm/Cl5Owcsp2L+3bdu2bdvWv2R9aKwPjdW/EI31obE+1L+8nIKXU/DSv2msD431odG/FbycgpdT0L+El1PwcgrOv9y2bdu2bcu/NtaHxvrQyL+O9aGxPjTGv+YUvJyCl8O/QDTWh8b6wL8wp+DlFLy8v+TlFLycgre/lCRJkiRJsr+QxvrQWB+qv+CHxvrQWJ+/QAUvp+DlhL9ABS+n4OWEP8CHxvrQWJ8/gMb60Fgfqj+QJEmSJEmyP+DlFLycgrc/KKfg5RS8vD88NNaHxvrAP+QUvJyCl8M/jPWhsT40xj801ofG+tDIP9i2bdu2bcs/gJdT8HIKzj8UvJyCl1PQP2isD431odE/upyCl1Pw0j8OjfWhsT7UP2J9aKwPjdU/tm3btm3b1j8KXk7ByynYP1xOwcspeNk/sD401ofG2j8EL6fg5RTcP1gfGutDY90/rA+N9aGx3j8AAAAAAADgPw==",
          "dtype": "f8"
         },
         "y": [
          -3.2045836402028,
          -3.1974407683881307,
          -3.1901350637127046,
          -3.182670169532428,
          -3.1750519896280878,
          -3.167289915988788,
          -3.1593987218384716,
          -3.151401372409354,
          -3.143332982883301,
          -3.1352459447083545,
          -3.1272155814106415,
          -3.119344019462015,
          -3.1117561122767623,
          -3.1045729148598316,
          -3.097830801688216,
          -3.0912790278547138,
          -3.08391880969289,
          -3.0730135469550737,
          -3.052058082599951,
          -3.0068124548475597,
          -2.9081510302624576,
          -2.7013559910622433,
          -2.298167622058605,
          -1.5982232055350991,
          -0.5811888815230131,
          0.5811888815230131,
          1.5982232055350944,
          2.2981676220586014,
          2.701355991062243,
          2.908151030262457,
          3.006812454847559,
          3.0520580825999506,
          3.0730135469550737,
          3.0839188096928893,
          3.0912790278547138,
          3.097830801688216,
          3.1045729148598316,
          3.111756112276762,
          3.119344019462015,
          3.1272155814106415,
          3.135245944708354,
          3.143332982883301,
          3.151401372409354,
          3.1593987218384716,
          3.167289915988788,
          3.1750519896280878,
          3.182670169532427,
          3.1901350637127046,
          3.1974407683881307,
          3.2045836402028
         ]
        }
       ],
       "layout": {
        "template": {
         "data": {
          "bar": [
           {
            "error_x": {
             "color": "#2a3f5f"
            },
            "error_y": {
             "color": "#2a3f5f"
            },
            "marker": {
             "line": {
              "color": "white",
              "width": 0.5
             },
             "pattern": {
              "fillmode": "overlay",
              "size": 10,
              "solidity": 0.2
             }
            },
            "type": "bar"
           }
          ],
          "barpolar": [
           {
            "marker": {
             "line": {
              "color": "white",
              "width": 0.5
             },
             "pattern": {
              "fillmode": "overlay",
              "size": 10,
              "solidity": 0.2
             }
            },
            "type": "barpolar"
           }
          ],
          "carpet": [
           {
            "aaxis": {
             "endlinecolor": "#2a3f5f",
             "gridcolor": "#C8D4E3",
             "linecolor": "#C8D4E3",
             "minorgridcolor": "#C8D4E3",
             "startlinecolor": "#2a3f5f"
            },
            "baxis": {
             "endlinecolor": "#2a3f5f",
             "gridcolor": "#C8D4E3",
             "linecolor": "#C8D4E3",
             "minorgridcolor": "#C8D4E3",
             "startlinecolor": "#2a3f5f"
            },
            "type": "carpet"
           }
          ],
          "choropleth": [
           {
            "colorbar": {
             "outlinewidth": 0,
             "ticks": ""
            },
            "type": "choropleth"
           }
          ],
          "contour": [
           {
            "colorbar": {
             "outlinewidth": 0,
             "ticks": ""
            },
            "colorscale": [
             [
              0,
              "#0d0887"
             ],
             [
              0.1111111111111111,
              "#46039f"
             ],
             [
              0.2222222222222222,
              "#7201a8"
             ],
             [
              0.3333333333333333,
              "#9c179e"
             ],
             [
              0.4444444444444444,
              "#bd3786"
             ],
             [
              0.5555555555555556,
              "#d8576b"
             ],
             [
              0.6666666666666666,
              "#ed7953"
             ],
             [
              0.7777777777777778,
              "#fb9f3a"
             ],
             [
              0.8888888888888888,
              "#fdca26"
             ],
             [
              1,
              "#f0f921"
             ]
            ],
            "type": "contour"
           }
          ],
          "contourcarpet": [
           {
            "colorbar": {
             "outlinewidth": 0,
             "ticks": ""
            },
            "type": "contourcarpet"
           }
          ],
          "heatmap": [
           {
            "colorbar": {
             "outlinewidth": 0,
             "ticks": ""
            },
            "colorscale": [
             [
              0,
              "#0d0887"
             ],
             [
              0.1111111111111111,
              "#46039f"
             ],
             [
              0.2222222222222222,
              "#7201a8"
             ],
             [
              0.3333333333333333,
              "#9c179e"
             ],
             [
              0.4444444444444444,
              "#bd3786"
             ],
             [
              0.5555555555555556,
              "#d8576b"
             ],
             [
              0.6666666666666666,
              "#ed7953"
             ],
             [
              0.7777777777777778,
              "#fb9f3a"
             ],
             [
              0.8888888888888888,
              "#fdca26"
             ],
             [
              1,
              "#f0f921"
             ]
            ],
            "type": "heatmap"
           }
          ],
          "histogram": [
           {
            "marker": {
             "pattern": {
              "fillmode": "overlay",
              "size": 10,
              "solidity": 0.2
             }
            },
            "type": "histogram"
           }
          ],
          "histogram2d": [
           {
            "colorbar": {
             "outlinewidth": 0,
             "ticks": ""
            },
            "colorscale": [
             [
              0,
              "#0d0887"
             ],
             [
              0.1111111111111111,
              "#46039f"
             ],
             [
              0.2222222222222222,
              "#7201a8"
             ],
             [
              0.3333333333333333,
              "#9c179e"
             ],
             [
              0.4444444444444444,
              "#bd3786"
             ],
             [
              0.5555555555555556,
              "#d8576b"
             ],
             [
              0.6666666666666666,
              "#ed7953"
             ],
             [
              0.7777777777777778,
              "#fb9f3a"
             ],
             [
              0.8888888888888888,
              "#fdca26"
             ],
             [
              1,
              "#f0f921"
             ]
            ],
            "type": "histogram2d"
           }
          ],
          "histogram2dcontour": [
           {
            "colorbar": {
             "outlinewidth": 0,
             "ticks": ""
            },
            "colorscale": [
             [
              0,
              "#0d0887"
             ],
             [
              0.1111111111111111,
              "#46039f"
             ],
             [
              0.2222222222222222,
              "#7201a8"
             ],
             [
              0.3333333333333333,
              "#9c179e"
             ],
             [
              0.4444444444444444,
              "#bd3786"
             ],
             [
              0.5555555555555556,
              "#d8576b"
             ],
             [
              0.6666666666666666,
              "#ed7953"
             ],
             [
              0.7777777777777778,
              "#fb9f3a"
             ],
             [
              0.8888888888888888,
              "#fdca26"
             ],
             [
              1,
              "#f0f921"
             ]
            ],
            "type": "histogram2dcontour"
           }
          ],
          "mesh3d": [
           {
            "colorbar": {
             "outlinewidth": 0,
             "ticks": ""
            },
            "type": "mesh3d"
           }
          ],
          "parcoords": [
           {
            "line": {
             "colorbar": {
              "outlinewidth": 0,
              "ticks": ""
             }
            },
            "type": "parcoords"
           }
          ],
          "pie": [
           {
            "automargin": true,
            "type": "pie"
           }
          ],
          "scatter": [
           {
            "fillpattern": {
             "fillmode": "overlay",
             "size": 10,
             "solidity": 0.2
            },
            "type": "scatter"
           }
          ],
          "scatter3d": [
           {
            "line": {
             "colorbar": {
              "outlinewidth": 0,
              "ticks": ""
             }
            },
            "marker": {
             "colorbar": {
              "outlinewidth": 0,
              "ticks": ""
             }
            },
            "type": "scatter3d"
           }
          ],
          "scattercarpet": [
           {
            "marker": {
             "colorbar": {
              "outlinewidth": 0,
              "ticks": ""
             }
            },
            "type": "scattercarpet"
           }
          ],
          "scattergeo": [
           {
            "marker": {
             "colorbar": {
              "outlinewidth": 0,
              "ticks": ""
             }
            },
            "type": "scattergeo"
           }
          ],
          "scattergl": [
           {
            "marker": {
             "colorbar": {
              "outlinewidth": 0,
              "ticks": ""
             }
            },
            "type": "scattergl"
           }
          ],
          "scattermap": [
           {
            "marker": {
             "colorbar": {
              "outlinewidth": 0,
              "ticks": ""
             }
            },
            "type": "scattermap"
           }
          ],
          "scattermapbox": [
           {
            "marker": {
             "colorbar": {
              "outlinewidth": 0,
              "ticks": ""
             }
            },
            "type": "scattermapbox"
           }
          ],
          "scatterpolar": [
           {
            "marker": {
             "colorbar": {
              "outlinewidth": 0,
              "ticks": ""
             }
            },
            "type": "scatterpolar"
           }
          ],
          "scatterpolargl": [
           {
            "marker": {
             "colorbar": {
              "outlinewidth": 0,
              "ticks": ""
             }
            },
            "type": "scatterpolargl"
           }
          ],
          "scatterternary": [
           {
            "marker": {
             "colorbar": {
              "outlinewidth": 0,
              "ticks": ""
             }
            },
            "type": "scatterternary"
           }
          ],
          "surface": [
           {
            "colorbar": {
             "outlinewidth": 0,
             "ticks": ""
            },
            "colorscale": [
             [
              0,
              "#0d0887"
             ],
             [
              0.1111111111111111,
              "#46039f"
             ],
             [
              0.2222222222222222,
              "#7201a8"
             ],
             [
              0.3333333333333333,
              "#9c179e"
             ],
             [
              0.4444444444444444,
              "#bd3786"
             ],
             [
              0.5555555555555556,
              "#d8576b"
             ],
             [
              0.6666666666666666,
              "#ed7953"
             ],
             [
              0.7777777777777778,
              "#fb9f3a"
             ],
             [
              0.8888888888888888,
              "#fdca26"
             ],
             [
              1,
              "#f0f921"
             ]
            ],
            "type": "surface"
           }
          ],
          "table": [
           {
            "cells": {
             "fill": {
              "color": "#EBF0F8"
             },
             "line": {
              "color": "white"
             }
            },
            "header": {
             "fill": {
              "color": "#C8D4E3"
             },
             "line": {
              "color": "white"
             }
            },
            "type": "table"
           }
          ]
         },
         "layout": {
          "annotationdefaults": {
           "arrowcolor": "#2a3f5f",
           "arrowhead": 0,
           "arrowwidth": 1
          },
          "autotypenumbers": "strict",
          "coloraxis": {
           "colorbar": {
            "outlinewidth": 0,
            "ticks": ""
           }
          },
          "colorscale": {
           "diverging": [
            [
             0,
             "#8e0152"
            ],
            [
             0.1,
             "#c51b7d"
            ],
            [
             0.2,
             "#de77ae"
            ],
            [
             0.3,
             "#f1b6da"
            ],
            [
             0.4,
             "#fde0ef"
            ],
            [
             0.5,
             "#f7f7f7"
            ],
            [
             0.6,
             "#e6f5d0"
            ],
            [
             0.7,
             "#b8e186"
            ],
            [
             0.8,
             "#7fbc41"
            ],
            [
             0.9,
             "#4d9221"
            ],
            [
             1,
             "#276419"
            ]
           ],
           "sequential": [
            [
             0,
             "#0d0887"
            ],
            [
             0.1111111111111111,
             "#46039f"
            ],
            [
             0.2222222222222222,
             "#7201a8"
            ],
            [
             0.3333333333333333,
             "#9c179e"
            ],
            [
             0.4444444444444444,
             "#bd3786"
            ],
            [
             0.5555555555555556,
             "#d8576b"
            ],
            [
             0.6666666666666666,
             "#ed7953"
            ],
            [
             0.7777777777777778,
             "#fb9f3a"
            ],
            [
             0.8888888888888888,
             "#fdca26"
            ],
            [
             1,
             "#f0f921"
            ]
           ],
           "sequentialminus": [
            [
             0,
             "#0d0887"
            ],
            [
             0.1111111111111111,
             "#46039f"
            ],
            [
             0.2222222222222222,
             "#7201a8"
            ],
            [
             0.3333333333333333,
             "#9c179e"
            ],
            [
             0.4444444444444444,
             "#bd3786"
            ],
            [
             0.5555555555555556,
             "#d8576b"
            ],
            [
             0.6666666666666666,
             "#ed7953"
            ],
            [
             0.7777777777777778,
             "#fb9f3a"
            ],
            [
             0.8888888888888888,
             "#fdca26"
            ],
            [
             1,
             "#f0f921"
            ]
           ]
          },
          "colorway": [
           "#636efa",
           "#EF553B",
           "#00cc96",
           "#ab63fa",
           "#FFA15A",
           "#19d3f3",
           "#FF6692",
           "#B6E880",
           "#FF97FF",
           "#FECB52"
          ],
          "font": {
           "color": "#2a3f5f"
          },
          "geo": {
           "bgcolor": "white",
           "lakecolor": "white",
           "landcolor": "white",
           "showlakes": true,
           "showland": true,
           "subunitcolor": "#C8D4E3"
          },
          "hoverlabel": {
           "align": "left"
          },
          "hovermode": "closest",
          "mapbox": {
           "style": "light"
          },
          "paper_bgcolor": "white",
          "plot_bgcolor": "white",
          "polar": {
           "angularaxis": {
            "gridcolor": "#EBF0F8",
            "linecolor": "#EBF0F8",
            "ticks": ""
           },
           "bgcolor": "white",
           "radialaxis": {
            "gridcolor": "#EBF0F8",
            "linecolor": "#EBF0F8",
            "ticks": ""
           }
          },
          "scene": {
           "xaxis": {
            "backgroundcolor": "white",
            "gridcolor": "#DFE8F3",
            "gridwidth": 2,
            "linecolor": "#EBF0F8",
            "showbackground": true,
            "ticks": "",
            "zerolinecolor": "#EBF0F8"
           },
           "yaxis": {
            "backgroundcolor": "white",
            "gridcolor": "#DFE8F3",
            "gridwidth": 2,
            "linecolor": "#EBF0F8",
            "showbackground": true,
            "ticks": "",
            "zerolinecolor": "#EBF0F8"
           },
           "zaxis": {
            "backgroundcolor": "white",
            "gridcolor": "#DFE8F3",
            "gridwidth": 2,
            "linecolor": "#EBF0F8",
            "showbackground": true,
            "ticks": "",
            "zerolinecolor": "#EBF0F8"
           }
          },
          "shapedefaults": {
           "line": {
            "color": "#2a3f5f"
           }
          },
          "ternary": {
           "aaxis": {
            "gridcolor": "#DFE8F3",
            "linecolor": "#A2B1C6",
            "ticks": ""
           },
           "baxis": {
            "gridcolor": "#DFE8F3",
            "linecolor": "#A2B1C6",
            "ticks": ""
           },
           "bgcolor": "white",
           "caxis": {
            "gridcolor": "#DFE8F3",
            "linecolor": "#A2B1C6",
            "ticks": ""
           }
          },
          "title": {
           "x": 0.05
          },
          "xaxis": {
           "automargin": true,
           "gridcolor": "#EBF0F8",
           "linecolor": "#EBF0F8",
           "ticks": "",
           "title": {
            "standoff": 15
           },
           "zerolinecolor": "#EBF0F8",
           "zerolinewidth": 2
          },
          "yaxis": {
           "automargin": true,
           "gridcolor": "#EBF0F8",
           "linecolor": "#EBF0F8",
           "ticks": "",
           "title": {
            "standoff": 15
           },
           "zerolinecolor": "#EBF0F8",
           "zerolinewidth": 2
          }
         }
        },
        "title": {
         "text": "Writhe vs Z-Axis Stretching "
        },
        "xaxis": {
         "title": {
          "text": "Z Stretch Factor "
         }
        },
        "yaxis": {
         "title": {
          "text": "Writhe"
         }
        }
       }
      }
     },
     "metadata": {},
     "output_type": "display_data"
    }
   ],
   "source": [
    "n = 100\n",
    "positions = trefoil_shape(n, 2)\n",
    "positions = np.array(positions)\n",
    "z_factors = np.linspace(-0.5, 0.5, 50)\n",
    "writhe_values = []\n",
    "\n",
    "for a in z_factors:\n",
    "    stretched = positions.copy()\n",
    "    stretched[:, 2] *= a  # stretch only z\n",
    "    writhe = compute_writhe_chat(stretched)\n",
    "    writhe_values.append(writhe)\n",
    "\n",
    "\n",
    "fig = go.Figure()\n",
    "fig.add_trace(go.Scatter(\n",
    "    x=z_factors,\n",
    "    y=writhe_values,\n",
    "    mode='lines+markers',\n",
    "    name='Writhe vs Z Stretch'\n",
    "))\n",
    "\n",
    "fig.update_layout(\n",
    "    title='Writhe vs Z-Axis Stretching ',\n",
    "    xaxis_title='Z Stretch Factor ',\n",
    "    yaxis_title='Writhe',\n",
    "    template='plotly_white'\n",
    ")\n",
    "\n",
    "fig.show()\n",
    "#fig.save as pdf "
   ]
  }
 ],
 "metadata": {
  "kernelspec": {
   "display_name": "Python 3",
   "language": "python",
   "name": "python3"
  },
  "language_info": {
   "codemirror_mode": {
    "name": "ipython",
    "version": 3
   },
   "file_extension": ".py",
   "mimetype": "text/x-python",
   "name": "python",
   "nbconvert_exporter": "python",
   "pygments_lexer": "ipython3",
   "version": "3.10.12"
  }
 },
 "nbformat": 4,
 "nbformat_minor": 2
}
